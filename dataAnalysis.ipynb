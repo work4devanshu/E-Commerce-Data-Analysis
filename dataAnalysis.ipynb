{
 "cells": [
  {
   "cell_type": "code",
   "execution_count": null,
   "id": "f56060f9",
   "metadata": {},
   "outputs": [],
   "source": [
    "# import python libraries\n",
    "\n",
    "import numpy as np \n",
    "import pandas as pd \n",
    "import matplotlib.pyplot as plt # visualizing data\n",
    "import seaborn as sns\n",
    "import warnings\n",
    "warnings.filterwarnings('ignore')"
   ]
  },
  {
   "cell_type": "markdown",
   "id": "329e8733-7a08-4c63-96cd-3f0e6d53d81b",
   "metadata": {},
   "source": [
    "IMPORTING DATA"
   ]
  },
  {
   "cell_type": "code",
   "execution_count": 2,
   "id": "617d2636-0730-4963-8433-de311ca47175",
   "metadata": {},
   "outputs": [],
   "source": [
    "df = pd.read_csv(\"Amazon Sale Report.csv\")"
   ]
  },
  {
   "cell_type": "markdown",
   "id": "bc4aa9f9-ef2e-44a9-9445-e6b833666b81",
   "metadata": {},
   "source": [
    "CHECKING TOP ROWS USING head() function"
   ]
  },
  {
   "cell_type": "code",
   "execution_count": 3,
   "id": "1cd8fd05-bf95-4bb9-9a0b-ba23778ff5ac",
   "metadata": {},
   "outputs": [
    {
     "data": {
      "text/html": [
       "<div>\n",
       "<style scoped>\n",
       "    .dataframe tbody tr th:only-of-type {\n",
       "        vertical-align: middle;\n",
       "    }\n",
       "\n",
       "    .dataframe tbody tr th {\n",
       "        vertical-align: top;\n",
       "    }\n",
       "\n",
       "    .dataframe thead th {\n",
       "        text-align: right;\n",
       "    }\n",
       "</style>\n",
       "<table border=\"1\" class=\"dataframe\">\n",
       "  <thead>\n",
       "    <tr style=\"text-align: right;\">\n",
       "      <th></th>\n",
       "      <th>index</th>\n",
       "      <th>Order ID</th>\n",
       "      <th>Date</th>\n",
       "      <th>Status</th>\n",
       "      <th>Fulfilment</th>\n",
       "      <th>Sales Channel</th>\n",
       "      <th>ship-service-level</th>\n",
       "      <th>Style</th>\n",
       "      <th>SKU</th>\n",
       "      <th>Category</th>\n",
       "      <th>...</th>\n",
       "      <th>currency</th>\n",
       "      <th>Amount</th>\n",
       "      <th>ship-city</th>\n",
       "      <th>ship-state</th>\n",
       "      <th>ship-postal-code</th>\n",
       "      <th>ship-country</th>\n",
       "      <th>promotion-ids</th>\n",
       "      <th>B2B</th>\n",
       "      <th>fulfilled-by</th>\n",
       "      <th>Unnamed: 22</th>\n",
       "    </tr>\n",
       "  </thead>\n",
       "  <tbody>\n",
       "    <tr>\n",
       "      <th>0</th>\n",
       "      <td>0</td>\n",
       "      <td>405-8078784-5731545</td>\n",
       "      <td>04-30-22</td>\n",
       "      <td>Cancelled</td>\n",
       "      <td>Merchant</td>\n",
       "      <td>Amazon.in</td>\n",
       "      <td>Standard</td>\n",
       "      <td>SET389</td>\n",
       "      <td>SET389-KR-NP-S</td>\n",
       "      <td>Set</td>\n",
       "      <td>...</td>\n",
       "      <td>INR</td>\n",
       "      <td>647.62</td>\n",
       "      <td>MUMBAI</td>\n",
       "      <td>MAHARASHTRA</td>\n",
       "      <td>400081.0</td>\n",
       "      <td>IN</td>\n",
       "      <td>NaN</td>\n",
       "      <td>False</td>\n",
       "      <td>Easy Ship</td>\n",
       "      <td>NaN</td>\n",
       "    </tr>\n",
       "    <tr>\n",
       "      <th>1</th>\n",
       "      <td>1</td>\n",
       "      <td>171-9198151-1101146</td>\n",
       "      <td>04-30-22</td>\n",
       "      <td>Shipped - Delivered to Buyer</td>\n",
       "      <td>Merchant</td>\n",
       "      <td>Amazon.in</td>\n",
       "      <td>Standard</td>\n",
       "      <td>JNE3781</td>\n",
       "      <td>JNE3781-KR-XXXL</td>\n",
       "      <td>kurta</td>\n",
       "      <td>...</td>\n",
       "      <td>INR</td>\n",
       "      <td>406.00</td>\n",
       "      <td>BENGALURU</td>\n",
       "      <td>KARNATAKA</td>\n",
       "      <td>560085.0</td>\n",
       "      <td>IN</td>\n",
       "      <td>Amazon PLCC Free-Financing Universal Merchant ...</td>\n",
       "      <td>False</td>\n",
       "      <td>Easy Ship</td>\n",
       "      <td>NaN</td>\n",
       "    </tr>\n",
       "    <tr>\n",
       "      <th>2</th>\n",
       "      <td>2</td>\n",
       "      <td>404-0687676-7273146</td>\n",
       "      <td>04-30-22</td>\n",
       "      <td>Shipped</td>\n",
       "      <td>Amazon</td>\n",
       "      <td>Amazon.in</td>\n",
       "      <td>Expedited</td>\n",
       "      <td>JNE3371</td>\n",
       "      <td>JNE3371-KR-XL</td>\n",
       "      <td>kurta</td>\n",
       "      <td>...</td>\n",
       "      <td>INR</td>\n",
       "      <td>329.00</td>\n",
       "      <td>NAVI MUMBAI</td>\n",
       "      <td>MAHARASHTRA</td>\n",
       "      <td>410210.0</td>\n",
       "      <td>IN</td>\n",
       "      <td>IN Core Free Shipping 2015/04/08 23-48-5-108</td>\n",
       "      <td>True</td>\n",
       "      <td>NaN</td>\n",
       "      <td>NaN</td>\n",
       "    </tr>\n",
       "    <tr>\n",
       "      <th>3</th>\n",
       "      <td>3</td>\n",
       "      <td>403-9615377-8133951</td>\n",
       "      <td>04-30-22</td>\n",
       "      <td>Cancelled</td>\n",
       "      <td>Merchant</td>\n",
       "      <td>Amazon.in</td>\n",
       "      <td>Standard</td>\n",
       "      <td>J0341</td>\n",
       "      <td>J0341-DR-L</td>\n",
       "      <td>Western Dress</td>\n",
       "      <td>...</td>\n",
       "      <td>INR</td>\n",
       "      <td>753.33</td>\n",
       "      <td>PUDUCHERRY</td>\n",
       "      <td>PUDUCHERRY</td>\n",
       "      <td>605008.0</td>\n",
       "      <td>IN</td>\n",
       "      <td>NaN</td>\n",
       "      <td>False</td>\n",
       "      <td>Easy Ship</td>\n",
       "      <td>NaN</td>\n",
       "    </tr>\n",
       "    <tr>\n",
       "      <th>4</th>\n",
       "      <td>4</td>\n",
       "      <td>407-1069790-7240320</td>\n",
       "      <td>04-30-22</td>\n",
       "      <td>Shipped</td>\n",
       "      <td>Amazon</td>\n",
       "      <td>Amazon.in</td>\n",
       "      <td>Expedited</td>\n",
       "      <td>JNE3671</td>\n",
       "      <td>JNE3671-TU-XXXL</td>\n",
       "      <td>Top</td>\n",
       "      <td>...</td>\n",
       "      <td>INR</td>\n",
       "      <td>574.00</td>\n",
       "      <td>CHENNAI</td>\n",
       "      <td>TAMIL NADU</td>\n",
       "      <td>600073.0</td>\n",
       "      <td>IN</td>\n",
       "      <td>NaN</td>\n",
       "      <td>False</td>\n",
       "      <td>NaN</td>\n",
       "      <td>NaN</td>\n",
       "    </tr>\n",
       "  </tbody>\n",
       "</table>\n",
       "<p>5 rows × 24 columns</p>\n",
       "</div>"
      ],
      "text/plain": [
       "   index             Order ID      Date                        Status  \\\n",
       "0      0  405-8078784-5731545  04-30-22                     Cancelled   \n",
       "1      1  171-9198151-1101146  04-30-22  Shipped - Delivered to Buyer   \n",
       "2      2  404-0687676-7273146  04-30-22                       Shipped   \n",
       "3      3  403-9615377-8133951  04-30-22                     Cancelled   \n",
       "4      4  407-1069790-7240320  04-30-22                       Shipped   \n",
       "\n",
       "  Fulfilment Sales Channel  ship-service-level    Style              SKU  \\\n",
       "0   Merchant      Amazon.in           Standard   SET389   SET389-KR-NP-S   \n",
       "1   Merchant      Amazon.in           Standard  JNE3781  JNE3781-KR-XXXL   \n",
       "2     Amazon      Amazon.in          Expedited  JNE3371    JNE3371-KR-XL   \n",
       "3   Merchant      Amazon.in           Standard    J0341       J0341-DR-L   \n",
       "4     Amazon      Amazon.in          Expedited  JNE3671  JNE3671-TU-XXXL   \n",
       "\n",
       "        Category  ... currency  Amount    ship-city   ship-state  \\\n",
       "0            Set  ...      INR  647.62       MUMBAI  MAHARASHTRA   \n",
       "1          kurta  ...      INR  406.00    BENGALURU    KARNATAKA   \n",
       "2          kurta  ...      INR  329.00  NAVI MUMBAI  MAHARASHTRA   \n",
       "3  Western Dress  ...      INR  753.33   PUDUCHERRY   PUDUCHERRY   \n",
       "4            Top  ...      INR  574.00      CHENNAI   TAMIL NADU   \n",
       "\n",
       "  ship-postal-code  ship-country  \\\n",
       "0         400081.0            IN   \n",
       "1         560085.0            IN   \n",
       "2         410210.0            IN   \n",
       "3         605008.0            IN   \n",
       "4         600073.0            IN   \n",
       "\n",
       "                                       promotion-ids    B2B  fulfilled-by  \\\n",
       "0                                                NaN  False     Easy Ship   \n",
       "1  Amazon PLCC Free-Financing Universal Merchant ...  False     Easy Ship   \n",
       "2       IN Core Free Shipping 2015/04/08 23-48-5-108   True           NaN   \n",
       "3                                                NaN  False     Easy Ship   \n",
       "4                                                NaN  False           NaN   \n",
       "\n",
       "  Unnamed: 22  \n",
       "0         NaN  \n",
       "1         NaN  \n",
       "2         NaN  \n",
       "3         NaN  \n",
       "4         NaN  \n",
       "\n",
       "[5 rows x 24 columns]"
      ]
     },
     "execution_count": 3,
     "metadata": {},
     "output_type": "execute_result"
    }
   ],
   "source": [
    "df.head()"
   ]
  },
  {
   "cell_type": "markdown",
   "id": "5f618cd7-8d32-4a95-957b-c8dff960b07d",
   "metadata": {},
   "source": [
    "CHECKING LAST FEW ROWS USING tail() function"
   ]
  },
  {
   "cell_type": "code",
   "execution_count": 4,
   "id": "052c12af-e861-4f49-bfb8-28ec718538e8",
   "metadata": {},
   "outputs": [
    {
     "data": {
      "text/html": [
       "<div>\n",
       "<style scoped>\n",
       "    .dataframe tbody tr th:only-of-type {\n",
       "        vertical-align: middle;\n",
       "    }\n",
       "\n",
       "    .dataframe tbody tr th {\n",
       "        vertical-align: top;\n",
       "    }\n",
       "\n",
       "    .dataframe thead th {\n",
       "        text-align: right;\n",
       "    }\n",
       "</style>\n",
       "<table border=\"1\" class=\"dataframe\">\n",
       "  <thead>\n",
       "    <tr style=\"text-align: right;\">\n",
       "      <th></th>\n",
       "      <th>index</th>\n",
       "      <th>Order ID</th>\n",
       "      <th>Date</th>\n",
       "      <th>Status</th>\n",
       "      <th>Fulfilment</th>\n",
       "      <th>Sales Channel</th>\n",
       "      <th>ship-service-level</th>\n",
       "      <th>Style</th>\n",
       "      <th>SKU</th>\n",
       "      <th>Category</th>\n",
       "      <th>...</th>\n",
       "      <th>currency</th>\n",
       "      <th>Amount</th>\n",
       "      <th>ship-city</th>\n",
       "      <th>ship-state</th>\n",
       "      <th>ship-postal-code</th>\n",
       "      <th>ship-country</th>\n",
       "      <th>promotion-ids</th>\n",
       "      <th>B2B</th>\n",
       "      <th>fulfilled-by</th>\n",
       "      <th>Unnamed: 22</th>\n",
       "    </tr>\n",
       "  </thead>\n",
       "  <tbody>\n",
       "    <tr>\n",
       "      <th>128970</th>\n",
       "      <td>128970</td>\n",
       "      <td>406-6001380-7673107</td>\n",
       "      <td>05-31-22</td>\n",
       "      <td>Shipped</td>\n",
       "      <td>Amazon</td>\n",
       "      <td>Amazon.in</td>\n",
       "      <td>Expedited</td>\n",
       "      <td>JNE3697</td>\n",
       "      <td>JNE3697-KR-XL</td>\n",
       "      <td>kurta</td>\n",
       "      <td>...</td>\n",
       "      <td>INR</td>\n",
       "      <td>517.0</td>\n",
       "      <td>HYDERABAD</td>\n",
       "      <td>TELANGANA</td>\n",
       "      <td>500013.0</td>\n",
       "      <td>IN</td>\n",
       "      <td>NaN</td>\n",
       "      <td>False</td>\n",
       "      <td>NaN</td>\n",
       "      <td>False</td>\n",
       "    </tr>\n",
       "    <tr>\n",
       "      <th>128971</th>\n",
       "      <td>128971</td>\n",
       "      <td>402-9551604-7544318</td>\n",
       "      <td>05-31-22</td>\n",
       "      <td>Shipped</td>\n",
       "      <td>Amazon</td>\n",
       "      <td>Amazon.in</td>\n",
       "      <td>Expedited</td>\n",
       "      <td>SET401</td>\n",
       "      <td>SET401-KR-NP-M</td>\n",
       "      <td>Set</td>\n",
       "      <td>...</td>\n",
       "      <td>INR</td>\n",
       "      <td>999.0</td>\n",
       "      <td>GURUGRAM</td>\n",
       "      <td>HARYANA</td>\n",
       "      <td>122004.0</td>\n",
       "      <td>IN</td>\n",
       "      <td>IN Core Free Shipping 2015/04/08 23-48-5-108</td>\n",
       "      <td>False</td>\n",
       "      <td>NaN</td>\n",
       "      <td>False</td>\n",
       "    </tr>\n",
       "    <tr>\n",
       "      <th>128972</th>\n",
       "      <td>128972</td>\n",
       "      <td>407-9547469-3152358</td>\n",
       "      <td>05-31-22</td>\n",
       "      <td>Shipped</td>\n",
       "      <td>Amazon</td>\n",
       "      <td>Amazon.in</td>\n",
       "      <td>Expedited</td>\n",
       "      <td>J0157</td>\n",
       "      <td>J0157-DR-XXL</td>\n",
       "      <td>Western Dress</td>\n",
       "      <td>...</td>\n",
       "      <td>INR</td>\n",
       "      <td>690.0</td>\n",
       "      <td>HYDERABAD</td>\n",
       "      <td>TELANGANA</td>\n",
       "      <td>500049.0</td>\n",
       "      <td>IN</td>\n",
       "      <td>NaN</td>\n",
       "      <td>False</td>\n",
       "      <td>NaN</td>\n",
       "      <td>False</td>\n",
       "    </tr>\n",
       "    <tr>\n",
       "      <th>128973</th>\n",
       "      <td>128973</td>\n",
       "      <td>402-6184140-0545956</td>\n",
       "      <td>05-31-22</td>\n",
       "      <td>Shipped</td>\n",
       "      <td>Amazon</td>\n",
       "      <td>Amazon.in</td>\n",
       "      <td>Expedited</td>\n",
       "      <td>J0012</td>\n",
       "      <td>J0012-SKD-XS</td>\n",
       "      <td>Set</td>\n",
       "      <td>...</td>\n",
       "      <td>INR</td>\n",
       "      <td>1199.0</td>\n",
       "      <td>Halol</td>\n",
       "      <td>Gujarat</td>\n",
       "      <td>389350.0</td>\n",
       "      <td>IN</td>\n",
       "      <td>IN Core Free Shipping 2015/04/08 23-48-5-108</td>\n",
       "      <td>False</td>\n",
       "      <td>NaN</td>\n",
       "      <td>False</td>\n",
       "    </tr>\n",
       "    <tr>\n",
       "      <th>128974</th>\n",
       "      <td>128974</td>\n",
       "      <td>408-7436540-8728312</td>\n",
       "      <td>05-31-22</td>\n",
       "      <td>Shipped</td>\n",
       "      <td>Amazon</td>\n",
       "      <td>Amazon.in</td>\n",
       "      <td>Expedited</td>\n",
       "      <td>J0003</td>\n",
       "      <td>J0003-SET-S</td>\n",
       "      <td>Set</td>\n",
       "      <td>...</td>\n",
       "      <td>INR</td>\n",
       "      <td>696.0</td>\n",
       "      <td>Raipur</td>\n",
       "      <td>CHHATTISGARH</td>\n",
       "      <td>492014.0</td>\n",
       "      <td>IN</td>\n",
       "      <td>IN Core Free Shipping 2015/04/08 23-48-5-108</td>\n",
       "      <td>False</td>\n",
       "      <td>NaN</td>\n",
       "      <td>False</td>\n",
       "    </tr>\n",
       "  </tbody>\n",
       "</table>\n",
       "<p>5 rows × 24 columns</p>\n",
       "</div>"
      ],
      "text/plain": [
       "         index             Order ID      Date   Status Fulfilment  \\\n",
       "128970  128970  406-6001380-7673107  05-31-22  Shipped     Amazon   \n",
       "128971  128971  402-9551604-7544318  05-31-22  Shipped     Amazon   \n",
       "128972  128972  407-9547469-3152358  05-31-22  Shipped     Amazon   \n",
       "128973  128973  402-6184140-0545956  05-31-22  Shipped     Amazon   \n",
       "128974  128974  408-7436540-8728312  05-31-22  Shipped     Amazon   \n",
       "\n",
       "       Sales Channel  ship-service-level    Style             SKU  \\\n",
       "128970      Amazon.in          Expedited  JNE3697   JNE3697-KR-XL   \n",
       "128971      Amazon.in          Expedited   SET401  SET401-KR-NP-M   \n",
       "128972      Amazon.in          Expedited    J0157    J0157-DR-XXL   \n",
       "128973      Amazon.in          Expedited    J0012    J0012-SKD-XS   \n",
       "128974      Amazon.in          Expedited    J0003     J0003-SET-S   \n",
       "\n",
       "             Category  ... currency  Amount  ship-city    ship-state  \\\n",
       "128970          kurta  ...      INR   517.0  HYDERABAD     TELANGANA   \n",
       "128971            Set  ...      INR   999.0   GURUGRAM       HARYANA   \n",
       "128972  Western Dress  ...      INR   690.0  HYDERABAD     TELANGANA   \n",
       "128973            Set  ...      INR  1199.0      Halol       Gujarat   \n",
       "128974            Set  ...      INR   696.0     Raipur  CHHATTISGARH   \n",
       "\n",
       "       ship-postal-code  ship-country  \\\n",
       "128970         500013.0            IN   \n",
       "128971         122004.0            IN   \n",
       "128972         500049.0            IN   \n",
       "128973         389350.0            IN   \n",
       "128974         492014.0            IN   \n",
       "\n",
       "                                       promotion-ids    B2B  fulfilled-by  \\\n",
       "128970                                           NaN  False           NaN   \n",
       "128971  IN Core Free Shipping 2015/04/08 23-48-5-108  False           NaN   \n",
       "128972                                           NaN  False           NaN   \n",
       "128973  IN Core Free Shipping 2015/04/08 23-48-5-108  False           NaN   \n",
       "128974  IN Core Free Shipping 2015/04/08 23-48-5-108  False           NaN   \n",
       "\n",
       "       Unnamed: 22  \n",
       "128970       False  \n",
       "128971       False  \n",
       "128972       False  \n",
       "128973       False  \n",
       "128974       False  \n",
       "\n",
       "[5 rows x 24 columns]"
      ]
     },
     "execution_count": 4,
     "metadata": {},
     "output_type": "execute_result"
    }
   ],
   "source": [
    "df.tail()"
   ]
  },
  {
   "cell_type": "markdown",
   "id": "b04c7625-db08-4e1e-8a66-4a8617ef4d81",
   "metadata": {},
   "source": [
    "get the summary of a DataFrame using  \" df.info() \""
   ]
  },
  {
   "cell_type": "code",
   "execution_count": 5,
   "id": "3f8c8cea-f623-4e64-bdf1-07f76e418510",
   "metadata": {},
   "outputs": [
    {
     "name": "stdout",
     "output_type": "stream",
     "text": [
      "<class 'pandas.core.frame.DataFrame'>\n",
      "RangeIndex: 128975 entries, 0 to 128974\n",
      "Data columns (total 24 columns):\n",
      " #   Column              Non-Null Count   Dtype  \n",
      "---  ------              --------------   -----  \n",
      " 0   index               128975 non-null  int64  \n",
      " 1   Order ID            128975 non-null  object \n",
      " 2   Date                128975 non-null  object \n",
      " 3   Status              128975 non-null  object \n",
      " 4   Fulfilment          128975 non-null  object \n",
      " 5   Sales Channel       128975 non-null  object \n",
      " 6   ship-service-level  128975 non-null  object \n",
      " 7   Style               128975 non-null  object \n",
      " 8   SKU                 128975 non-null  object \n",
      " 9   Category            128975 non-null  object \n",
      " 10  Size                128975 non-null  object \n",
      " 11  ASIN                128975 non-null  object \n",
      " 12  Courier Status      122103 non-null  object \n",
      " 13  Qty                 128975 non-null  int64  \n",
      " 14  currency            121180 non-null  object \n",
      " 15  Amount              121180 non-null  float64\n",
      " 16  ship-city           128942 non-null  object \n",
      " 17  ship-state          128942 non-null  object \n",
      " 18  ship-postal-code    128942 non-null  float64\n",
      " 19  ship-country        128942 non-null  object \n",
      " 20  promotion-ids       79822 non-null   object \n",
      " 21  B2B                 128975 non-null  bool   \n",
      " 22  fulfilled-by        39277 non-null   object \n",
      " 23  Unnamed: 22         79925 non-null   object \n",
      "dtypes: bool(1), float64(2), int64(2), object(19)\n",
      "memory usage: 22.8+ MB\n"
     ]
    }
   ],
   "source": [
    "df.info()"
   ]
  },
  {
   "cell_type": "markdown",
   "id": "575f7d72-bb31-4a15-a4a3-e8ae891c83f0",
   "metadata": {},
   "source": [
    "Basic Statistical Summary\n"
   ]
  },
  {
   "cell_type": "code",
   "execution_count": 6,
   "id": "c7cc8e39-f191-4b20-bcb2-4cea2ef5b54c",
   "metadata": {},
   "outputs": [
    {
     "data": {
      "text/html": [
       "<div>\n",
       "<style scoped>\n",
       "    .dataframe tbody tr th:only-of-type {\n",
       "        vertical-align: middle;\n",
       "    }\n",
       "\n",
       "    .dataframe tbody tr th {\n",
       "        vertical-align: top;\n",
       "    }\n",
       "\n",
       "    .dataframe thead th {\n",
       "        text-align: right;\n",
       "    }\n",
       "</style>\n",
       "<table border=\"1\" class=\"dataframe\">\n",
       "  <thead>\n",
       "    <tr style=\"text-align: right;\">\n",
       "      <th></th>\n",
       "      <th>index</th>\n",
       "      <th>Qty</th>\n",
       "      <th>Amount</th>\n",
       "      <th>ship-postal-code</th>\n",
       "    </tr>\n",
       "  </thead>\n",
       "  <tbody>\n",
       "    <tr>\n",
       "      <th>count</th>\n",
       "      <td>128975.000000</td>\n",
       "      <td>128975.000000</td>\n",
       "      <td>121180.000000</td>\n",
       "      <td>128942.000000</td>\n",
       "    </tr>\n",
       "    <tr>\n",
       "      <th>mean</th>\n",
       "      <td>64487.000000</td>\n",
       "      <td>0.904431</td>\n",
       "      <td>648.561465</td>\n",
       "      <td>463966.236509</td>\n",
       "    </tr>\n",
       "    <tr>\n",
       "      <th>std</th>\n",
       "      <td>37232.019822</td>\n",
       "      <td>0.313354</td>\n",
       "      <td>281.211687</td>\n",
       "      <td>191476.764941</td>\n",
       "    </tr>\n",
       "    <tr>\n",
       "      <th>min</th>\n",
       "      <td>0.000000</td>\n",
       "      <td>0.000000</td>\n",
       "      <td>0.000000</td>\n",
       "      <td>110001.000000</td>\n",
       "    </tr>\n",
       "    <tr>\n",
       "      <th>25%</th>\n",
       "      <td>32243.500000</td>\n",
       "      <td>1.000000</td>\n",
       "      <td>449.000000</td>\n",
       "      <td>382421.000000</td>\n",
       "    </tr>\n",
       "    <tr>\n",
       "      <th>50%</th>\n",
       "      <td>64487.000000</td>\n",
       "      <td>1.000000</td>\n",
       "      <td>605.000000</td>\n",
       "      <td>500033.000000</td>\n",
       "    </tr>\n",
       "    <tr>\n",
       "      <th>75%</th>\n",
       "      <td>96730.500000</td>\n",
       "      <td>1.000000</td>\n",
       "      <td>788.000000</td>\n",
       "      <td>600024.000000</td>\n",
       "    </tr>\n",
       "    <tr>\n",
       "      <th>max</th>\n",
       "      <td>128974.000000</td>\n",
       "      <td>15.000000</td>\n",
       "      <td>5584.000000</td>\n",
       "      <td>989898.000000</td>\n",
       "    </tr>\n",
       "  </tbody>\n",
       "</table>\n",
       "</div>"
      ],
      "text/plain": [
       "               index            Qty         Amount  ship-postal-code\n",
       "count  128975.000000  128975.000000  121180.000000     128942.000000\n",
       "mean    64487.000000       0.904431     648.561465     463966.236509\n",
       "std     37232.019822       0.313354     281.211687     191476.764941\n",
       "min         0.000000       0.000000       0.000000     110001.000000\n",
       "25%     32243.500000       1.000000     449.000000     382421.000000\n",
       "50%     64487.000000       1.000000     605.000000     500033.000000\n",
       "75%     96730.500000       1.000000     788.000000     600024.000000\n",
       "max    128974.000000      15.000000    5584.000000     989898.000000"
      ]
     },
     "execution_count": 6,
     "metadata": {},
     "output_type": "execute_result"
    }
   ],
   "source": [
    "df.describe() "
   ]
  },
  {
   "cell_type": "markdown",
   "id": "3aa6376d-a2f2-49fd-af3c-7834a2e6a990",
   "metadata": {},
   "source": [
    "Duplication and Missing Values Management"
   ]
  },
  {
   "cell_type": "code",
   "execution_count": 7,
   "id": "2d66a685-4394-495a-8ec5-88ce70a4d370",
   "metadata": {},
   "outputs": [
    {
     "data": {
      "text/plain": [
       "index                     0\n",
       "Order ID                  0\n",
       "Date                      0\n",
       "Status                    0\n",
       "Fulfilment                0\n",
       "Sales Channel             0\n",
       "ship-service-level        0\n",
       "Style                     0\n",
       "SKU                       0\n",
       "Category                  0\n",
       "Size                      0\n",
       "ASIN                      0\n",
       "Courier Status         6872\n",
       "Qty                       0\n",
       "currency               7795\n",
       "Amount                 7795\n",
       "ship-city                33\n",
       "ship-state               33\n",
       "ship-postal-code         33\n",
       "ship-country             33\n",
       "promotion-ids         49153\n",
       "B2B                       0\n",
       "fulfilled-by          89698\n",
       "Unnamed: 22           49050\n",
       "dtype: int64"
      ]
     },
     "execution_count": 7,
     "metadata": {},
     "output_type": "execute_result"
    }
   ],
   "source": [
    "df.isnull().sum()"
   ]
  },
  {
   "cell_type": "code",
   "execution_count": 8,
   "id": "75a638b6-9efe-45ec-bd46-ac440a14922f",
   "metadata": {},
   "outputs": [
    {
     "data": {
      "text/plain": [
       "210495"
      ]
     },
     "execution_count": 8,
     "metadata": {},
     "output_type": "execute_result"
    }
   ],
   "source": [
    "# checking total null value countt\n",
    "df.isnull().sum().sum()"
   ]
  },
  {
   "cell_type": "code",
   "execution_count": 9,
   "id": "f269cf5b-f736-4077-8208-a92121580399",
   "metadata": {},
   "outputs": [
    {
     "data": {
      "text/plain": [
       "fulfilled-by          69.55\n",
       "promotion-ids         38.11\n",
       "Unnamed: 22           38.03\n",
       "currency               6.04\n",
       "Amount                 6.04\n",
       "Courier Status         5.33\n",
       "ship-country           0.03\n",
       "ship-postal-code       0.03\n",
       "ship-state             0.03\n",
       "ship-city              0.03\n",
       "ship-service-level     0.00\n",
       "Style                  0.00\n",
       "Date                   0.00\n",
       "B2B                    0.00\n",
       "Status                 0.00\n",
       "Fulfilment             0.00\n",
       "Sales Channel          0.00\n",
       "Qty                    0.00\n",
       "Order ID               0.00\n",
       "ASIN                   0.00\n",
       "Size                   0.00\n",
       "Category               0.00\n",
       "SKU                    0.00\n",
       "index                  0.00\n",
       "dtype: float64"
      ]
     },
     "execution_count": 9,
     "metadata": {},
     "output_type": "execute_result"
    }
   ],
   "source": [
    "# percentage of null values\n",
    "(df.isnull().sum().sort_values(ascending=False)/df.shape[0]*100).round(2)"
   ]
  },
  {
   "cell_type": "code",
   "execution_count": 10,
   "id": "c6c0ae0e-fea9-4f32-92a0-895d2571d925",
   "metadata": {},
   "outputs": [
    {
     "data": {
      "text/plain": [
       "6.800251986819152"
      ]
     },
     "execution_count": 10,
     "metadata": {},
     "output_type": "execute_result"
    }
   ],
   "source": [
    "# FINDING TOTL NULL VALUE PERCENTAGE\n",
    "(df.isnull().sum().sum()/(df.shape[0]*df.shape[1]))*100"
   ]
  },
  {
   "cell_type": "code",
   "execution_count": 11,
   "id": "fe7de9da-98b7-48d4-8b3c-a1c53e038c49",
   "metadata": {},
   "outputs": [],
   "source": [
    "# for checking not null values"
   ]
  },
  {
   "cell_type": "code",
   "execution_count": 12,
   "id": "6da2721a-d2e0-4df0-b034-2511e15c1009",
   "metadata": {},
   "outputs": [
    {
     "data": {
      "text/plain": [
       "index                 128975\n",
       "Order ID              128975\n",
       "Date                  128975\n",
       "Status                128975\n",
       "Fulfilment            128975\n",
       "Sales Channel         128975\n",
       "ship-service-level    128975\n",
       "Style                 128975\n",
       "SKU                   128975\n",
       "Category              128975\n",
       "Size                  128975\n",
       "ASIN                  128975\n",
       "Courier Status        122103\n",
       "Qty                   128975\n",
       "currency              121180\n",
       "Amount                121180\n",
       "ship-city             128942\n",
       "ship-state            128942\n",
       "ship-postal-code      128942\n",
       "ship-country          128942\n",
       "promotion-ids          79822\n",
       "B2B                   128975\n",
       "fulfilled-by           39277\n",
       "Unnamed: 22            79925\n",
       "dtype: int64"
      ]
     },
     "execution_count": 12,
     "metadata": {},
     "output_type": "execute_result"
    }
   ],
   "source": [
    "df.notnull().sum()"
   ]
  },
  {
   "cell_type": "code",
   "execution_count": 13,
   "id": "77b9f8c0-cbde-4939-9187-acd744d5c802",
   "metadata": {},
   "outputs": [],
   "source": [
    "# TOTAL NOT NULL VALUE SUM"
   ]
  },
  {
   "cell_type": "code",
   "execution_count": 14,
   "id": "8a5e2361-21f5-4e65-a4a7-bc3362bf1345",
   "metadata": {},
   "outputs": [
    {
     "data": {
      "text/plain": [
       "2884905"
      ]
     },
     "execution_count": 14,
     "metadata": {},
     "output_type": "execute_result"
    }
   ],
   "source": [
    "df.notnull().sum().sum()"
   ]
  },
  {
   "cell_type": "code",
   "execution_count": 15,
   "id": "3099af32-c13f-4c21-ad47-14cdf2e6f71a",
   "metadata": {},
   "outputs": [],
   "source": [
    "# DROPING UNWANTED COLUMNS\n",
    "\n",
    "df.drop(columns = ['Order ID', 'Unnamed: 22', 'ship-postal-code','index',], inplace = True,axis = 1)"
   ]
  },
  {
   "cell_type": "markdown",
   "id": "69a6560b-e51f-4e7d-9171-2d6f587eb9e2",
   "metadata": {},
   "source": [
    "* Dealing with column fulfilled-by which has 89698 null values we haveto fill them"
   ]
  },
  {
   "cell_type": "code",
   "execution_count": 16,
   "id": "05819287-fa9b-496c-9af3-7c46d5d8e120",
   "metadata": {},
   "outputs": [
    {
     "data": {
      "text/plain": [
       "array(['Easy Ship', nan], dtype=object)"
      ]
     },
     "execution_count": 16,
     "metadata": {},
     "output_type": "execute_result"
    }
   ],
   "source": [
    "df[\"fulfilled-by\"].unique()"
   ]
  },
  {
   "cell_type": "code",
   "execution_count": 17,
   "id": "641877df-4fd0-472f-9bbe-9557de796d1f",
   "metadata": {},
   "outputs": [
    {
     "data": {
      "text/plain": [
       "1"
      ]
     },
     "execution_count": 17,
     "metadata": {},
     "output_type": "execute_result"
    }
   ],
   "source": [
    "## check the number of unique values\n",
    "\n",
    "df[\"fulfilled-by\"].nunique()"
   ]
  },
  {
   "cell_type": "markdown",
   "id": "bdfc8eff-e62b-4bbc-8220-e4d50bdbe572",
   "metadata": {},
   "source": [
    "* Conclusion\n",
    "* 1 As we see that fulfilled-by column has only one value which is Easy Ship so we will fill the all missing values with Easy Ship"
   ]
  },
  {
   "cell_type": "code",
   "execution_count": 18,
   "id": "205738e8-7686-457c-8e73-28a488ffd839",
   "metadata": {},
   "outputs": [],
   "source": [
    "# fill the missing values of fulfilled-by column\n",
    "\n",
    "df.fillna({\"fulfilled-by\":'Easy Ship'},inplace = True)"
   ]
  },
  {
   "cell_type": "markdown",
   "id": "0d199cd5-daed-430f-9060-e42c1edfc0fe",
   "metadata": {},
   "source": [
    "*  2)Dealing with the column promotion-ids"
   ]
  },
  {
   "cell_type": "code",
   "execution_count": 19,
   "id": "912c9fdb-46a6-4954-88ad-0a2503d5cea6",
   "metadata": {},
   "outputs": [
    {
     "data": {
      "text/plain": [
       "5787"
      ]
     },
     "execution_count": 19,
     "metadata": {},
     "output_type": "execute_result"
    }
   ],
   "source": [
    "df[\"promotion-ids\"].nunique()"
   ]
  },
  {
   "cell_type": "code",
   "execution_count": 20,
   "id": "d81be407-8eba-4901-a5d1-ddadfd48f83e",
   "metadata": {},
   "outputs": [
    {
     "data": {
      "text/plain": [
       "promotion-ids\n",
       "IN Core Free Shipping 2015/04/08 23-48-5-108                                                                                                                                                                                                                                                                                                                                                                                                                                                                                                                                                                                                                                                                                                                                                                                                                                                                                                                                                                                                                                                                                                                                                                                                                                                                                                                                                                                        46100\n",
       "Duplicated A12RHGVGRWOT3S 1560498941486                                                                                                                                                                                                                                                                                                                                                                                                                                                                                                                                                                                                                                                                                                                                                                                                                                                                                                                                                                                                                                                                                                                                                                                                                                                                                                                                                                                               489\n",
       "Amazon PLCC Free-Financing Universal Merchant AAT-WNKTBO3K27EJC,Amazon PLCC Free-Financing Universal Merchant AAT-QX3UCCJESKPA2,Amazon PLCC Free-Financing Universal Merchant AAT-CXJHMC2YJUK76,Amazon PLCC Free-Financing Universal Merchant AAT-CC4FAVTYR4X7C,Amazon PLCC Free-Financing Universal Merchant AAT-XXRCW6NZEPZI4,Amazon PLCC Free-Financing Universal Merchant AAT-EOKPWFWYW7Y6I,Amazon PLCC Free-Financing Universal Merchant AAT-ZYL5UPUNW6T62,Amazon PLCC Free-Financing Universal Merchant AAT-G5ZRX4BZOIODU,Amazon PLCC Free-Financing Universal Merchant AAT-PZHUW6DZX4BPS,Amazon PLCC Free-Financing Universal Merchant AAT-XX7G3ZRJJJ5LG,Amazon PLCC Free-Financing Universal Merchant AAT-LEHCKNDBJG64E,Amazon PLCC Free-Financing Universal Merchant AAT-DJVHCEV7D7RQY,Amazon PLCC Free-Financing Universal Merchant AAT-BRSZZ45H6MHAO,Amazon PLCC Free-Financing Universal Merchant AAT-MKLXOOZWQL7GO,Amazon PLCC Free-Financing Universal Merchant AAT-CB7UNXEXGIJTC,Amazon PLCC Free-Financing Universal Merchant #MP-gzasho-1593152694811,Amazon PLCC Free-Financing Universal Merchant AAT-WLBA4GZ52EAH4                                                                                                                                                                                                                                                                                                458\n",
       "Duplicated AYTJSBA8ZOP16 1567159860988                                                                                                                                                                                                                                                                                                                                                                                                                                                                                                                                                                                                                                                                                                                                                                                                                                                                                                                                                                                                                                                                                                                                                                                                                                                                                                                                                                                                433\n",
       "Amazon PLCC Free-Financing Universal Merchant AAT-WNKTBO3K27EJC,Amazon PLCC Free-Financing Universal Merchant AAT-QX3UCCJESKPA2,Amazon PLCC Free-Financing Universal Merchant AAT-5QQ7BIYYQEDN2,Amazon PLCC Free-Financing Universal Merchant AAT-DSJ2QRXXWXVMQ,Amazon PLCC Free-Financing Universal Merchant AAT-CXJHMC2YJUK76,Amazon PLCC Free-Financing Universal Merchant AAT-CC4FAVTYR4X7C,Amazon PLCC Free-Financing Universal Merchant AAT-XXRCW6NZEPZI4,Amazon PLCC Free-Financing Universal Merchant AAT-EOKPWFWYW7Y6I,Amazon PLCC Free-Financing Universal Merchant AAT-ZYL5UPUNW6T62,Amazon PLCC Free-Financing Universal Merchant AAT-G5ZRX4BZOIODU,Amazon PLCC Free-Financing Universal Merchant AAT-PZHUW6DZX4BPS,Amazon PLCC Free-Financing Universal Merchant AAT-ETXQ3XXWMRXBG,Amazon PLCC Free-Financing Universal Merchant AAT-BRSZZ45H6MHAO,Amazon PLCC Free-Financing Universal Merchant AAT-MKLXOOZWQL7GO,Amazon PLCC Free-Financing Universal Merchant AAT-CB7UNXEXGIJTC,Amazon PLCC Free-Financing Universal Merchant #MP-gzasho-1593152694811,Amazon PLCC Free-Financing Universal Merchant AAT-WLBA4GZ52EAH4                                                                                                                                                                                                                                                                                                316\n",
       "                                                                                                                                                                                                                                                                                                                                                                                                                                                                                                                                                                                                                                                                                                                                                                                                                                                                                                                                                                                                                                                                                                                                                                                                                                                                                                                                                                                                                                    ...  \n",
       "Amazon PLCC Free-Financing Universal Merchant AAT-WNKTBO3K27EJC,Amazon PLCC Free-Financing Universal Merchant AAT-QX3UCCJESKPA2,Amazon PLCC Free-Financing Universal Merchant AAT-5QQ7BIYYQEDN2,Amazon PLCC Free-Financing Universal Merchant AAT-DSJ2QRXXWXVMQ,Amazon PLCC Free-Financing Universal Merchant AAT-CXJHMC2YJUK76,Amazon PLCC Free-Financing Universal Merchant AAT-CC4FAVTYR4X7C,Amazon PLCC Free-Financing Universal Merchant AAT-FYWJCQHU2XQ2U,Amazon PLCC Free-Financing Universal Merchant AAT-R7GXNZWISTRFA,Amazon PLCC Free-Financing Universal Merchant AAT-EOKPWFWYW7Y6I,Amazon PLCC Free-Financing Universal Merchant AAT-URPEBMPS7TSPE,VPC-44571-41445561 Coupon,Amazon PLCC Free-Financing Universal Merchant AAT-L2DLP5YGE5766,Amazon PLCC Free-Financing Universal Merchant AAT-5ZEB2OGNZ32MC,Amazon PLCC Free-Financing Universal Merchant AAT-2MN4SWBDTUSNI,Amazon PLCC Free-Financing Universal Merchant AAT-4VFZUZS2EO5J2,Amazon PLCC Free-Financing Universal Merchant AAT-BRSZZ45H6MHAO,Amazon PLCC Free-Financing Universal Merchant AAT-MKLXOOZWQL7GO,Amazon PLCC Free-Financing Universal Merchant AAT-CB7UNXEXGIJTC,Amazon PLCC Free-Financing Universal Merchant #MP-gzasho-1593152694811,Amazon PLCC Free-Financing Universal Merchant AAT-WLBA4GZ52EAH4                                                                                                                                        1\n",
       "Amazon PLCC Free-Financing Universal Merchant AAT-WNKTBO3K27EJC,Amazon PLCC Free-Financing Universal Merchant AAT-QX3UCCJESKPA2,Amazon PLCC Free-Financing Universal Merchant AAT-5QQ7BIYYQEDN2,Amazon PLCC Free-Financing Universal Merchant AAT-DSJ2QRXXWXVMQ,Amazon PLCC Free-Financing Universal Merchant AAT-CXJHMC2YJUK76,Amazon PLCC Free-Financing Universal Merchant AAT-CC4FAVTYR4X7C,Amazon PLCC Free-Financing Universal Merchant AAT-FYWJCQHU2XQ2U,Amazon PLCC Free-Financing Universal Merchant AAT-EOKPWFWYW7Y6I,Amazon PLCC Free-Financing Universal Merchant AAT-URPEBMPS7TSPE,VPC-44571-41445527 Coupon,Amazon PLCC Free-Financing Universal Merchant AAT-2MN4SWBDTUSNI,Amazon PLCC Free-Financing Universal Merchant AAT-4VFZUZS2EO5J2,Amazon PLCC Free-Financing Universal Merchant AAT-BRSZZ45H6MHAO,Amazon PLCC Free-Financing Universal Merchant AAT-MKLXOOZWQL7GO,Amazon PLCC Free-Financing Universal Merchant AAT-CB7UNXEXGIJTC,Amazon PLCC Free-Financing Universal Merchant #MP-gzasho-1593152694811,Amazon PLCC Free-Financing Universal Merchant AAT-WLBA4GZ52EAH4                                                                                                                                                                                                                                                                                                                                        1\n",
       "Amazon PLCC Free-Financing Universal Merchant AAT-WNKTBO3K27EJC,Amazon PLCC Free-Financing Universal Merchant AAT-QX3UCCJESKPA2,Amazon PLCC Free-Financing Universal Merchant AAT-5QQ7BIYYQEDN2,Amazon PLCC Free-Financing Universal Merchant AAT-DSJ2QRXXWXVMQ,Amazon PLCC Free-Financing Universal Merchant AAT-CXJHMC2YJUK76,Amazon PLCC Free-Financing Universal Merchant AAT-CC4FAVTYR4X7C,Amazon PLCC Free-Financing Universal Merchant AAT-FYWJCQHU2XQ2U,Amazon PLCC Free-Financing Universal Merchant AAT-R7GXNZWISTRFA,Amazon PLCC Free-Financing Universal Merchant AAT-WSJLDN3X7KEMO,Amazon PLCC Free-Financing Universal Merchant AAT-VL6FGQVGQVXUS,Amazon PLCC Free-Financing Universal Merchant AAT-EOKPWFWYW7Y6I,Amazon PLCC Free-Financing Universal Merchant AAT-URPEBMPS7TSPE,VPC-44571-41445561 Coupon,Amazon PLCC Free-Financing Universal Merchant AAT-L2DLP5YGE5766,Amazon PLCC Free-Financing Universal Merchant AAT-5ZEB2OGNZ32MC,Amazon PLCC Free-Financing Universal Merchant AAT-2MN4SWBDTUSNI,Amazon PLCC Free-Financing Universal Merchant AAT-4VFZUZS2EO5J2,Amazon PLCC Free-Financing Universal Merchant AAT-BRSZZ45H6MHAO,Amazon PLCC Free-Financing Universal Merchant AAT-MKLXOOZWQL7GO,Amazon PLCC Free-Financing Universal Merchant AAT-CB7UNXEXGIJTC,Amazon PLCC Free-Financing Universal Merchant #MP-gzasho-1593152694811,Amazon PLCC Free-Financing Universal Merchant AAT-WLBA4GZ52EAH4        1\n",
       "Amazon PLCC Free-Financing Universal Merchant AAT-WNKTBO3K27EJC,Amazon PLCC Free-Financing Universal Merchant AAT-QX3UCCJESKPA2,Amazon PLCC Free-Financing Universal Merchant AAT-5QQ7BIYYQEDN2,Amazon PLCC Free-Financing Universal Merchant AAT-DSJ2QRXXWXVMQ,Amazon PLCC Free-Financing Universal Merchant AAT-CXJHMC2YJUK76,Amazon PLCC Free-Financing Universal Merchant AAT-CC4FAVTYR4X7C,Amazon PLCC Free-Financing Universal Merchant AAT-FYWJCQHU2XQ2U,Amazon PLCC Free-Financing Universal Merchant AAT-EOKPWFWYW7Y6I,VPC-44571-38708638 Coupon,Amazon PLCC Free-Financing Universal Merchant AAT-URPEBMPS7TSPE,Amazon PLCC Free-Financing Universal Merchant AAT-2MN4SWBDTUSNI,Amazon PLCC Free-Financing Universal Merchant AAT-4VFZUZS2EO5J2,Amazon PLCC Free-Financing Universal Merchant AAT-BRSZZ45H6MHAO,Amazon PLCC Free-Financing Universal Merchant AAT-MKLXOOZWQL7GO,Amazon PLCC Free-Financing Universal Merchant AAT-CB7UNXEXGIJTC,Amazon PLCC Free-Financing Universal Merchant #MP-gzasho-1593152694811,Amazon PLCC Free-Financing Universal Merchant AAT-WLBA4GZ52EAH4                                                                                                                                                                                                                                                                                                                                        1\n",
       "Amazon PLCC Free-Financing Universal Merchant AAT-WNKTBO3K27EJC,Amazon PLCC Free-Financing Universal Merchant AAT-QX3UCCJESKPA2,Amazon PLCC Free-Financing Universal Merchant AAT-5QQ7BIYYQEDN2,Amazon PLCC Free-Financing Universal Merchant AAT-DSJ2QRXXWXVMQ,Amazon PLCC Free-Financing Universal Merchant AAT-CXJHMC2YJUK76,Amazon PLCC Free-Financing Universal Merchant AAT-CC4FAVTYR4X7C,Amazon PLCC Free-Financing Universal Merchant AAT-EWAPBB6BDRGM6,Amazon PLCC Free-Financing Universal Merchant AAT-R7GXNZWISTRFA,Amazon PLCC Free-Financing Universal Merchant AAT-EOKPWFWYW7Y6I,Amazon PLCC Free-Financing Universal Merchant AAT-NT3ZJJGQ3JK3Q,Amazon PLCC Free-Financing Universal Merchant AAT-5SHH3G55USK5C,Amazon PLCC Free-Financing Universal Merchant AAT-TNYBHEAO7HOHO,Amazon PLCC Free-Financing Universal Merchant AAT-BRSZZ45H6MHAO,Amazon PLCC Free-Financing Universal Merchant AAT-MKLXOOZWQL7GO,Amazon PLCC Free-Financing Universal Merchant AAT-CB7UNXEXGIJTC,Amazon PLCC Free-Financing Universal Merchant #MP-gzasho-1593152694811,Amazon PLCC Free-Financing Universal Merchant AAT-WLBA4GZ52EAH4,Amazon PLCC Free-Financing Universal Merchant AAT-QMFZ3M7T5NPDS,Amazon PLCC Free-Financing Universal Merchant #MP-pmilan-1601980554292                                                                                                                                                           1\n",
       "Name: count, Length: 5787, dtype: int64"
      ]
     },
     "execution_count": 20,
     "metadata": {},
     "output_type": "execute_result"
    }
   ],
   "source": [
    "df[\"promotion-ids\"].value_counts()"
   ]
  },
  {
   "cell_type": "markdown",
   "id": "545fcc79-38a1-4b21-b9fc-d5a9b5d9e674",
   "metadata": {},
   "source": [
    "* Conclusion # 2 As we see that promotion-ids has IN Core Free Shipping 2015/04/08 23-48-5-108 value most of the time amomng all so we will fill with it"
   ]
  },
  {
   "cell_type": "code",
   "execution_count": 21,
   "id": "01ef228d-384b-4d20-8034-3fbca1b76ca8",
   "metadata": {},
   "outputs": [],
   "source": [
    "df.fillna({\"promotion-ids\":\"IN Core Free Shipping 2015/04/08 23-48-5-108\"},inplace = True)"
   ]
  },
  {
   "cell_type": "markdown",
   "id": "7097e40c-7ee0-4440-b198-14dfdfa434d2",
   "metadata": {},
   "source": [
    "* 3)__ Dealing with Amount column that has null values of 6.04% we will fill it with suitable values¶\n"
   ]
  },
  {
   "cell_type": "code",
   "execution_count": 22,
   "id": "b25cc696-68c7-4508-835c-e17b8ca81323",
   "metadata": {},
   "outputs": [
    {
     "data": {
      "text/plain": [
       "605.0"
      ]
     },
     "execution_count": 22,
     "metadata": {},
     "output_type": "execute_result"
    }
   ],
   "source": [
    "df[\"Amount\"].median()"
   ]
  },
  {
   "cell_type": "code",
   "execution_count": 23,
   "id": "98b436e7-c9b5-402b-a2e4-e1199d301649",
   "metadata": {},
   "outputs": [
    {
     "data": {
      "text/plain": [
       "count    121180.000000\n",
       "mean        648.561465\n",
       "std         281.211687\n",
       "min           0.000000\n",
       "25%         449.000000\n",
       "50%         605.000000\n",
       "75%         788.000000\n",
       "max        5584.000000\n",
       "Name: Amount, dtype: float64"
      ]
     },
     "execution_count": 23,
     "metadata": {},
     "output_type": "execute_result"
    }
   ],
   "source": [
    "df[\"Amount\"].describe()"
   ]
  },
  {
   "cell_type": "code",
   "execution_count": 24,
   "id": "66db6f78-bd61-49bf-b323-20dc746a8436",
   "metadata": {},
   "outputs": [],
   "source": [
    "df.fillna({'Amount':df['Amount'].median()}, inplace=True)"
   ]
  },
  {
   "cell_type": "markdown",
   "id": "250986ea-5050-44de-b25d-6d2d04e65754",
   "metadata": {},
   "source": [
    "# Now deal with the Currency column"
   ]
  },
  {
   "cell_type": "code",
   "execution_count": 25,
   "id": "a99c89a0-cdc0-4cb6-93c5-e0ceee1125ae",
   "metadata": {},
   "outputs": [
    {
     "data": {
      "text/plain": [
       "1"
      ]
     },
     "execution_count": 25,
     "metadata": {},
     "output_type": "execute_result"
    }
   ],
   "source": [
    "df[\"currency\"].nunique()\n"
   ]
  },
  {
   "cell_type": "code",
   "execution_count": 26,
   "id": "4e13a1b7-e4af-4477-bf14-dfd761c39f76",
   "metadata": {},
   "outputs": [
    {
     "data": {
      "text/plain": [
       "array(['INR', nan], dtype=object)"
      ]
     },
     "execution_count": 26,
     "metadata": {},
     "output_type": "execute_result"
    }
   ],
   "source": [
    "df[\"currency\"].unique()"
   ]
  },
  {
   "cell_type": "markdown",
   "id": "76509b18-a9e5-44d6-9eeb-8e23a324988d",
   "metadata": {},
   "source": [
    "*  We see that Currency column has only one unique value which is INR So we will fill it with INR"
   ]
  },
  {
   "cell_type": "code",
   "execution_count": 27,
   "id": "6ab08b42-ff66-4e62-9453-4dd15fc0b8ec",
   "metadata": {},
   "outputs": [],
   "source": [
    "df.fillna({\"currency\":\"INR\"},inplace = True)"
   ]
  },
  {
   "cell_type": "markdown",
   "id": "83885e49-1f5a-4f70-b457-b5dc555e8519",
   "metadata": {},
   "source": [
    "# Deal with column Courier Status"
   ]
  },
  {
   "cell_type": "code",
   "execution_count": 28,
   "id": "d1eac235-3a2b-46e5-873d-2a7de1476b10",
   "metadata": {},
   "outputs": [
    {
     "data": {
      "text/plain": [
       "array([nan, 'Shipped', 'Cancelled', 'Unshipped'], dtype=object)"
      ]
     },
     "execution_count": 28,
     "metadata": {},
     "output_type": "execute_result"
    }
   ],
   "source": [
    "df[\"Courier Status\"].unique()"
   ]
  },
  {
   "cell_type": "code",
   "execution_count": 29,
   "id": "928b93d5-01ee-467d-b35f-a3f1e00e7209",
   "metadata": {},
   "outputs": [
    {
     "data": {
      "text/plain": [
       "Courier Status\n",
       "Shipped      109487\n",
       "Unshipped      6681\n",
       "Cancelled      5935\n",
       "Name: count, dtype: int64"
      ]
     },
     "execution_count": 29,
     "metadata": {},
     "output_type": "execute_result"
    }
   ],
   "source": [
    "df[\"Courier Status\"].value_counts()"
   ]
  },
  {
   "cell_type": "code",
   "execution_count": 30,
   "id": "09f32886-506f-4817-90cd-847bd5daaa03",
   "metadata": {},
   "outputs": [
    {
     "data": {
      "text/plain": [
       "Courier Status\n",
       "Shipped      89.67\n",
       "Unshipped     5.47\n",
       "Cancelled     4.86\n",
       "Name: count, dtype: float64"
      ]
     },
     "execution_count": 30,
     "metadata": {},
     "output_type": "execute_result"
    }
   ],
   "source": [
    "# take the percentahe of value count of courier status\n",
    "(df['Courier Status'].value_counts()/df['Courier Status'].count()*100).round(2)"
   ]
  },
  {
   "cell_type": "code",
   "execution_count": 31,
   "id": "e383b4b4-3b91-40eb-8706-62f831b6964f",
   "metadata": {},
   "outputs": [
    {
     "data": {
      "text/plain": [
       "122103"
      ]
     },
     "execution_count": 31,
     "metadata": {},
     "output_type": "execute_result"
    }
   ],
   "source": [
    "df['Courier Status'].count()"
   ]
  },
  {
   "cell_type": "code",
   "execution_count": 32,
   "id": "c035fdc2-34f5-4fdf-8d04-fd4724787055",
   "metadata": {},
   "outputs": [
    {
     "data": {
      "text/plain": [
       "6872"
      ]
     },
     "execution_count": 32,
     "metadata": {},
     "output_type": "execute_result"
    }
   ],
   "source": [
    "df['Courier Status'].isnull().sum()"
   ]
  },
  {
   "cell_type": "markdown",
   "id": "cbf061bb-1af5-4d68-9006-41d478ffd435",
   "metadata": {},
   "source": [
    "* Conclusion  We see in the column Courier Status that percentage of shipping status is 89.67% and 5.47% is Unshipped and 4.86% is Cancelled.And total missing values of courier status are 6872. We will fill the missing values according to percentage of shipping status"
   ]
  },
  {
   "cell_type": "code",
   "execution_count": 33,
   "id": "e7e5daf7-23f8-42f3-b74d-f7c428a0d206",
   "metadata": {},
   "outputs": [
    {
     "name": "stdout",
     "output_type": "stream",
     "text": [
      "6162.0 376.0 334.0\n"
     ]
    }
   ],
   "source": [
    "# Check the distribution of courier status of missing values\n",
    "\n",
    "a = round(6872 * 0.8967, 0)\n",
    "b = round(6872 * 0.0547, 0)\n",
    "c = round(6872 * 0.0486, 0)\n",
    "\n",
    "print(a, b, c)"
   ]
  },
  {
   "cell_type": "code",
   "execution_count": 34,
   "id": "7144bea7-e0df-4202-bdac-aca3d3d7df46",
   "metadata": {},
   "outputs": [],
   "source": [
    "# fill the missing values of courier status according to above conclusion \n",
    "\n",
    "df['Courier Status'].fillna('Shipped', limit=6162, inplace=True)\n",
    "df['Courier Status'].fillna('Unshipped', limit=376, inplace=True)\n",
    "df['Courier Status'].fillna('Cancelled', limit=334, inplace=True)"
   ]
  },
  {
   "cell_type": "markdown",
   "id": "2116b163-48ad-4627-89df-60dde6656f4e",
   "metadata": {},
   "source": [
    "* For example, when doing 'df[col].method(value, inplace=True)', try using '\n",
    "df.method({col: value}, inplace=True)' or df[col] = df[col].method(value) instead, \n",
    "to perform the operation inplace on the original object.\n",
    "\n",
    "\n",
    "  df['Courier Status'].fillna('Shipped', limit=6162, inplace=True)"
   ]
  },
  {
   "cell_type": "code",
   "execution_count": 35,
   "id": "68cc3c92-e71e-4e62-a62e-bdfef9d2d4e7",
   "metadata": {},
   "outputs": [
    {
     "data": {
      "text/plain": [
       "Courier Status\n",
       "Shipped      115649\n",
       "Unshipped      7057\n",
       "Cancelled      6269\n",
       "Name: count, dtype: int64"
      ]
     },
     "execution_count": 35,
     "metadata": {},
     "output_type": "execute_result"
    }
   ],
   "source": [
    "# again check the count of unique values of courier status\n",
    "df['Courier Status'].value_counts()"
   ]
  },
  {
   "cell_type": "markdown",
   "id": "706a8c46-297c-4388-88ff-4a2900322939",
   "metadata": {},
   "source": [
    "* Dealing with columns ship-country, ship-postal-code, ship-state, ship-city"
   ]
  },
  {
   "cell_type": "code",
   "execution_count": 36,
   "id": "94edf8e3-d430-49d0-b444-6f26ea61b949",
   "metadata": {},
   "outputs": [
    {
     "data": {
      "text/plain": [
       "ship-country          33\n",
       "ship-state            33\n",
       "ship-city             33\n",
       "Date                   0\n",
       "Status                 0\n",
       "B2B                    0\n",
       "promotion-ids          0\n",
       "Amount                 0\n",
       "currency               0\n",
       "Qty                    0\n",
       "Courier Status         0\n",
       "ASIN                   0\n",
       "Size                   0\n",
       "Category               0\n",
       "SKU                    0\n",
       "Style                  0\n",
       "ship-service-level     0\n",
       "Sales Channel          0\n",
       "Fulfilment             0\n",
       "fulfilled-by           0\n",
       "dtype: int64"
      ]
     },
     "execution_count": 36,
     "metadata": {},
     "output_type": "execute_result"
    }
   ],
   "source": [
    "df.isnull().sum().sort_values(ascending=False)"
   ]
  },
  {
   "cell_type": "code",
   "execution_count": 37,
   "id": "c0bf4b88-a2be-40fb-ad32-7e4064fb557a",
   "metadata": {},
   "outputs": [
    {
     "data": {
      "text/plain": [
       "array(['IN', nan], dtype=object)"
      ]
     },
     "execution_count": 37,
     "metadata": {},
     "output_type": "execute_result"
    }
   ],
   "source": [
    "df[\"ship-country\"].unique()"
   ]
  },
  {
   "cell_type": "code",
   "execution_count": 38,
   "id": "92973d16-3185-4add-b374-a5bf15187136",
   "metadata": {},
   "outputs": [],
   "source": [
    "df.fillna({\"ship-country\":\"IN\"},inplace= True)"
   ]
  },
  {
   "cell_type": "code",
   "execution_count": 39,
   "id": "73635910-e697-4b7f-9409-5853329bc4d7",
   "metadata": {},
   "outputs": [
    {
     "data": {
      "text/plain": [
       "ship-state            33\n",
       "ship-city             33\n",
       "Date                   0\n",
       "Status                 0\n",
       "B2B                    0\n",
       "promotion-ids          0\n",
       "ship-country           0\n",
       "Amount                 0\n",
       "currency               0\n",
       "Qty                    0\n",
       "Courier Status         0\n",
       "ASIN                   0\n",
       "Size                   0\n",
       "Category               0\n",
       "SKU                    0\n",
       "Style                  0\n",
       "ship-service-level     0\n",
       "Sales Channel          0\n",
       "Fulfilment             0\n",
       "fulfilled-by           0\n",
       "dtype: int64"
      ]
     },
     "execution_count": 39,
     "metadata": {},
     "output_type": "execute_result"
    }
   ],
   "source": [
    "df.isnull().sum().sort_values(ascending=False)\n"
   ]
  },
  {
   "cell_type": "code",
   "execution_count": 40,
   "id": "f67de013-4e8a-4555-b09d-77d002eee3aa",
   "metadata": {},
   "outputs": [
    {
     "data": {
      "text/plain": [
       "69"
      ]
     },
     "execution_count": 40,
     "metadata": {},
     "output_type": "execute_result"
    }
   ],
   "source": [
    " df['ship-state'].nunique()\n"
   ]
  },
  {
   "cell_type": "code",
   "execution_count": 41,
   "id": "26e8443c-a9b6-4d88-b9de-2565e8bf9637",
   "metadata": {},
   "outputs": [
    {
     "data": {
      "text/plain": [
       "ship-state\n",
       "MAHARASHTRA               22260\n",
       "KARNATAKA                 17326\n",
       "TAMIL NADU                11483\n",
       "TELANGANA                 11330\n",
       "UTTAR PRADESH             10638\n",
       "                          ...  \n",
       "Mizoram                       1\n",
       "rajsthan                      1\n",
       "Punjab/Mohali/Zirakpur        1\n",
       "Rajsthan                      1\n",
       "orissa                        1\n",
       "Name: count, Length: 69, dtype: int64"
      ]
     },
     "execution_count": 41,
     "metadata": {},
     "output_type": "execute_result"
    }
   ],
   "source": [
    "df[\"ship-state\"].value_counts()"
   ]
  },
  {
   "cell_type": "code",
   "execution_count": 42,
   "id": "d8045cd3-f637-4803-8082-4de3931fae9d",
   "metadata": {},
   "outputs": [],
   "source": [
    "df.fillna({\"ship-state\":\"MAHARASHTRA\"},inplace = True)"
   ]
  },
  {
   "cell_type": "code",
   "execution_count": null,
   "id": "df3e366e-e86c-4bfe-a40b-e5108a2f6616",
   "metadata": {},
   "outputs": [],
   "source": []
  },
  {
   "cell_type": "code",
   "execution_count": 43,
   "id": "741b30cc-4659-432a-b550-1a6a5af45ae2",
   "metadata": {},
   "outputs": [
    {
     "data": {
      "text/plain": [
       "8955"
      ]
     },
     "execution_count": 43,
     "metadata": {},
     "output_type": "execute_result"
    }
   ],
   "source": [
    "df['ship-city'].nunique()"
   ]
  },
  {
   "cell_type": "code",
   "execution_count": 44,
   "id": "485da16a-96fa-4074-9a17-09168d08747d",
   "metadata": {},
   "outputs": [
    {
     "data": {
      "text/plain": [
       "ship-city\n",
       "BENGALURU                                      11217\n",
       "HYDERABAD                                       8074\n",
       "MUMBAI                                          6126\n",
       "NEW DELHI                                       5795\n",
       "CHENNAI                                         5421\n",
       "                                               ...  \n",
       "Khandavalli, peravali mandal, west godavari        1\n",
       "Bhayander west                                     1\n",
       "JAKHALMANDI                                        1\n",
       "Arariya                                            1\n",
       "Halol                                              1\n",
       "Name: count, Length: 8955, dtype: int64"
      ]
     },
     "execution_count": 44,
     "metadata": {},
     "output_type": "execute_result"
    }
   ],
   "source": [
    "# check the value count of ship-city\n",
    "df['ship-city'].value_counts()"
   ]
  },
  {
   "cell_type": "code",
   "execution_count": 45,
   "id": "3da2b8c4-0ce0-40b7-9aa2-81ffb4577b50",
   "metadata": {},
   "outputs": [],
   "source": [
    "# fill the missing values of ship-city column with 'BENGALURU'\n",
    "df.fillna({'ship-city':'BENGALURU'}, inplace=True)"
   ]
  },
  {
   "cell_type": "markdown",
   "id": "818d0cd5-9077-4982-af99-16d9bb28c9ea",
   "metadata": {},
   "source": [
    "* Milestone # 1 - We have fill all the missing values in the dataset with the most suitable ones\n",
    "  "
   ]
  },
  {
   "cell_type": "code",
   "execution_count": 46,
   "id": "98e0ca89-d0b0-49fd-b38e-86636fd91c0a",
   "metadata": {},
   "outputs": [
    {
     "data": {
      "text/html": [
       "<div>\n",
       "<style scoped>\n",
       "    .dataframe tbody tr th:only-of-type {\n",
       "        vertical-align: middle;\n",
       "    }\n",
       "\n",
       "    .dataframe tbody tr th {\n",
       "        vertical-align: top;\n",
       "    }\n",
       "\n",
       "    .dataframe thead th {\n",
       "        text-align: right;\n",
       "    }\n",
       "</style>\n",
       "<table border=\"1\" class=\"dataframe\">\n",
       "  <thead>\n",
       "    <tr style=\"text-align: right;\">\n",
       "      <th></th>\n",
       "      <th>Date</th>\n",
       "      <th>Status</th>\n",
       "      <th>Fulfilment</th>\n",
       "      <th>Sales Channel</th>\n",
       "      <th>ship-service-level</th>\n",
       "      <th>Style</th>\n",
       "      <th>SKU</th>\n",
       "      <th>Category</th>\n",
       "      <th>Size</th>\n",
       "      <th>ASIN</th>\n",
       "      <th>Courier Status</th>\n",
       "      <th>Qty</th>\n",
       "      <th>currency</th>\n",
       "      <th>Amount</th>\n",
       "      <th>ship-city</th>\n",
       "      <th>ship-state</th>\n",
       "      <th>ship-country</th>\n",
       "      <th>promotion-ids</th>\n",
       "      <th>B2B</th>\n",
       "      <th>fulfilled-by</th>\n",
       "    </tr>\n",
       "  </thead>\n",
       "  <tbody>\n",
       "    <tr>\n",
       "      <th>0</th>\n",
       "      <td>04-30-22</td>\n",
       "      <td>Cancelled</td>\n",
       "      <td>Merchant</td>\n",
       "      <td>Amazon.in</td>\n",
       "      <td>Standard</td>\n",
       "      <td>SET389</td>\n",
       "      <td>SET389-KR-NP-S</td>\n",
       "      <td>Set</td>\n",
       "      <td>S</td>\n",
       "      <td>B09KXVBD7Z</td>\n",
       "      <td>Shipped</td>\n",
       "      <td>0</td>\n",
       "      <td>INR</td>\n",
       "      <td>647.62</td>\n",
       "      <td>MUMBAI</td>\n",
       "      <td>MAHARASHTRA</td>\n",
       "      <td>IN</td>\n",
       "      <td>IN Core Free Shipping 2015/04/08 23-48-5-108</td>\n",
       "      <td>False</td>\n",
       "      <td>Easy Ship</td>\n",
       "    </tr>\n",
       "    <tr>\n",
       "      <th>1</th>\n",
       "      <td>04-30-22</td>\n",
       "      <td>Shipped - Delivered to Buyer</td>\n",
       "      <td>Merchant</td>\n",
       "      <td>Amazon.in</td>\n",
       "      <td>Standard</td>\n",
       "      <td>JNE3781</td>\n",
       "      <td>JNE3781-KR-XXXL</td>\n",
       "      <td>kurta</td>\n",
       "      <td>3XL</td>\n",
       "      <td>B09K3WFS32</td>\n",
       "      <td>Shipped</td>\n",
       "      <td>1</td>\n",
       "      <td>INR</td>\n",
       "      <td>406.00</td>\n",
       "      <td>BENGALURU</td>\n",
       "      <td>KARNATAKA</td>\n",
       "      <td>IN</td>\n",
       "      <td>Amazon PLCC Free-Financing Universal Merchant ...</td>\n",
       "      <td>False</td>\n",
       "      <td>Easy Ship</td>\n",
       "    </tr>\n",
       "    <tr>\n",
       "      <th>2</th>\n",
       "      <td>04-30-22</td>\n",
       "      <td>Shipped</td>\n",
       "      <td>Amazon</td>\n",
       "      <td>Amazon.in</td>\n",
       "      <td>Expedited</td>\n",
       "      <td>JNE3371</td>\n",
       "      <td>JNE3371-KR-XL</td>\n",
       "      <td>kurta</td>\n",
       "      <td>XL</td>\n",
       "      <td>B07WV4JV4D</td>\n",
       "      <td>Shipped</td>\n",
       "      <td>1</td>\n",
       "      <td>INR</td>\n",
       "      <td>329.00</td>\n",
       "      <td>NAVI MUMBAI</td>\n",
       "      <td>MAHARASHTRA</td>\n",
       "      <td>IN</td>\n",
       "      <td>IN Core Free Shipping 2015/04/08 23-48-5-108</td>\n",
       "      <td>True</td>\n",
       "      <td>Easy Ship</td>\n",
       "    </tr>\n",
       "    <tr>\n",
       "      <th>3</th>\n",
       "      <td>04-30-22</td>\n",
       "      <td>Cancelled</td>\n",
       "      <td>Merchant</td>\n",
       "      <td>Amazon.in</td>\n",
       "      <td>Standard</td>\n",
       "      <td>J0341</td>\n",
       "      <td>J0341-DR-L</td>\n",
       "      <td>Western Dress</td>\n",
       "      <td>L</td>\n",
       "      <td>B099NRCT7B</td>\n",
       "      <td>Shipped</td>\n",
       "      <td>0</td>\n",
       "      <td>INR</td>\n",
       "      <td>753.33</td>\n",
       "      <td>PUDUCHERRY</td>\n",
       "      <td>PUDUCHERRY</td>\n",
       "      <td>IN</td>\n",
       "      <td>IN Core Free Shipping 2015/04/08 23-48-5-108</td>\n",
       "      <td>False</td>\n",
       "      <td>Easy Ship</td>\n",
       "    </tr>\n",
       "    <tr>\n",
       "      <th>4</th>\n",
       "      <td>04-30-22</td>\n",
       "      <td>Shipped</td>\n",
       "      <td>Amazon</td>\n",
       "      <td>Amazon.in</td>\n",
       "      <td>Expedited</td>\n",
       "      <td>JNE3671</td>\n",
       "      <td>JNE3671-TU-XXXL</td>\n",
       "      <td>Top</td>\n",
       "      <td>3XL</td>\n",
       "      <td>B098714BZP</td>\n",
       "      <td>Shipped</td>\n",
       "      <td>1</td>\n",
       "      <td>INR</td>\n",
       "      <td>574.00</td>\n",
       "      <td>CHENNAI</td>\n",
       "      <td>TAMIL NADU</td>\n",
       "      <td>IN</td>\n",
       "      <td>IN Core Free Shipping 2015/04/08 23-48-5-108</td>\n",
       "      <td>False</td>\n",
       "      <td>Easy Ship</td>\n",
       "    </tr>\n",
       "  </tbody>\n",
       "</table>\n",
       "</div>"
      ],
      "text/plain": [
       "       Date                        Status Fulfilment Sales Channel   \\\n",
       "0  04-30-22                     Cancelled   Merchant      Amazon.in   \n",
       "1  04-30-22  Shipped - Delivered to Buyer   Merchant      Amazon.in   \n",
       "2  04-30-22                       Shipped     Amazon      Amazon.in   \n",
       "3  04-30-22                     Cancelled   Merchant      Amazon.in   \n",
       "4  04-30-22                       Shipped     Amazon      Amazon.in   \n",
       "\n",
       "  ship-service-level    Style              SKU       Category Size  \\\n",
       "0           Standard   SET389   SET389-KR-NP-S            Set    S   \n",
       "1           Standard  JNE3781  JNE3781-KR-XXXL          kurta  3XL   \n",
       "2          Expedited  JNE3371    JNE3371-KR-XL          kurta   XL   \n",
       "3           Standard    J0341       J0341-DR-L  Western Dress    L   \n",
       "4          Expedited  JNE3671  JNE3671-TU-XXXL            Top  3XL   \n",
       "\n",
       "         ASIN Courier Status  Qty currency  Amount    ship-city   ship-state  \\\n",
       "0  B09KXVBD7Z        Shipped    0      INR  647.62       MUMBAI  MAHARASHTRA   \n",
       "1  B09K3WFS32        Shipped    1      INR  406.00    BENGALURU    KARNATAKA   \n",
       "2  B07WV4JV4D        Shipped    1      INR  329.00  NAVI MUMBAI  MAHARASHTRA   \n",
       "3  B099NRCT7B        Shipped    0      INR  753.33   PUDUCHERRY   PUDUCHERRY   \n",
       "4  B098714BZP        Shipped    1      INR  574.00      CHENNAI   TAMIL NADU   \n",
       "\n",
       "  ship-country                                      promotion-ids    B2B  \\\n",
       "0           IN       IN Core Free Shipping 2015/04/08 23-48-5-108  False   \n",
       "1           IN  Amazon PLCC Free-Financing Universal Merchant ...  False   \n",
       "2           IN       IN Core Free Shipping 2015/04/08 23-48-5-108   True   \n",
       "3           IN       IN Core Free Shipping 2015/04/08 23-48-5-108  False   \n",
       "4           IN       IN Core Free Shipping 2015/04/08 23-48-5-108  False   \n",
       "\n",
       "  fulfilled-by  \n",
       "0    Easy Ship  \n",
       "1    Easy Ship  \n",
       "2    Easy Ship  \n",
       "3    Easy Ship  \n",
       "4    Easy Ship  "
      ]
     },
     "execution_count": 46,
     "metadata": {},
     "output_type": "execute_result"
    }
   ],
   "source": [
    "# check the data\n",
    "df.head()"
   ]
  },
  {
   "cell_type": "markdown",
   "id": "23bc7bbf-8cf8-46c3-81be-123bc0a30aa2",
   "metadata": {},
   "source": [
    "# Data Insights and Trends\n",
    "* Total sales and monthly sales trend"
   ]
  },
  {
   "cell_type": "code",
   "execution_count": 47,
   "id": "f5dba950-8f48-4bf0-a6d7-5e38fdac0296",
   "metadata": {},
   "outputs": [
    {
     "data": {
      "text/plain": [
       "83308653"
      ]
     },
     "execution_count": 47,
     "metadata": {},
     "output_type": "execute_result"
    }
   ],
   "source": [
    "# check the total sales\n",
    "int(df['Amount'].sum())"
   ]
  },
  {
   "cell_type": "code",
   "execution_count": 48,
   "id": "124ab2fc-5c99-44d7-b65f-48fd14b3bc36",
   "metadata": {},
   "outputs": [],
   "source": [
    "# check the sales by year\n",
    "df['Year'] = pd.DatetimeIndex(df['Date']).year"
   ]
  },
  {
   "cell_type": "code",
   "execution_count": 49,
   "id": "d001b732-e909-4cee-9dfb-d3db1c349290",
   "metadata": {},
   "outputs": [
    {
     "data": {
      "text/plain": [
       "Year\n",
       "2022    128975\n",
       "Name: count, dtype: int64"
      ]
     },
     "execution_count": 49,
     "metadata": {},
     "output_type": "execute_result"
    }
   ],
   "source": [
    "df['Year'].value_counts()"
   ]
  },
  {
   "cell_type": "markdown",
   "id": "db05646e-4a7c-4db7-8952-13f1f6773fb6",
   "metadata": {},
   "source": [
    "* Conclusion #6 - This dataset has the data of only year 2022. The total sales was INR 83308653"
   ]
  },
  {
   "cell_type": "code",
   "execution_count": 50,
   "id": "1bc09f87-1aba-4cd7-b33a-35918384a2bc",
   "metadata": {},
   "outputs": [],
   "source": [
    "# See the sale by months\n",
    "df['Month'] = pd.DatetimeIndex(df['Date']).month"
   ]
  },
  {
   "cell_type": "code",
   "execution_count": 51,
   "id": "c3a8b978-017b-49c7-a5e6-ed61fdbb8312",
   "metadata": {},
   "outputs": [],
   "source": [
    "import calendar\n",
    "\n",
    "df['Month'] = df['Month'].apply(lambda x: calendar.month_name[x])"
   ]
  },
  {
   "cell_type": "code",
   "execution_count": 52,
   "id": "a07b3831-9f0c-4146-885c-e52d47c83f93",
   "metadata": {},
   "outputs": [
    {
     "data": {
      "text/plain": [
       "Month\n",
       "April    49067\n",
       "May      42040\n",
       "June     37697\n",
       "March      171\n",
       "Name: count, dtype: int64"
      ]
     },
     "execution_count": 52,
     "metadata": {},
     "output_type": "execute_result"
    }
   ],
   "source": [
    "df[\"Month\"].value_counts()"
   ]
  },
  {
   "cell_type": "code",
   "execution_count": 53,
   "id": "1af35fac-b05f-4d92-a7cd-4f5039c6aa58",
   "metadata": {},
   "outputs": [
    {
     "data": {
      "text/html": [
       "<div>\n",
       "<style scoped>\n",
       "    .dataframe tbody tr th:only-of-type {\n",
       "        vertical-align: middle;\n",
       "    }\n",
       "\n",
       "    .dataframe tbody tr th {\n",
       "        vertical-align: top;\n",
       "    }\n",
       "\n",
       "    .dataframe thead th {\n",
       "        text-align: right;\n",
       "    }\n",
       "</style>\n",
       "<table border=\"1\" class=\"dataframe\">\n",
       "  <thead>\n",
       "    <tr style=\"text-align: right;\">\n",
       "      <th></th>\n",
       "      <th>Month</th>\n",
       "      <th>Total Sales</th>\n",
       "    </tr>\n",
       "  </thead>\n",
       "  <tbody>\n",
       "    <tr>\n",
       "      <th>0</th>\n",
       "      <td>April</td>\n",
       "      <td>30653103.32</td>\n",
       "    </tr>\n",
       "    <tr>\n",
       "      <th>1</th>\n",
       "      <td>May</td>\n",
       "      <td>27741396.75</td>\n",
       "    </tr>\n",
       "    <tr>\n",
       "      <th>2</th>\n",
       "      <td>June</td>\n",
       "      <td>24807024.38</td>\n",
       "    </tr>\n",
       "    <tr>\n",
       "      <th>3</th>\n",
       "      <td>March</td>\n",
       "      <td>107128.85</td>\n",
       "    </tr>\n",
       "  </tbody>\n",
       "</table>\n",
       "</div>"
      ],
      "text/plain": [
       "   Month  Total Sales\n",
       "0  April  30653103.32\n",
       "1    May  27741396.75\n",
       "2   June  24807024.38\n",
       "3  March    107128.85"
      ]
     },
     "execution_count": 53,
     "metadata": {},
     "output_type": "execute_result"
    }
   ],
   "source": [
    "# total sales by month\n",
    "\n",
    "monthly_sales = df.groupby('Month')['Amount'].sum().reset_index().sort_values(by='Amount', ascending=False).rename(columns={'Amount': 'Total Sales'})\n",
    "monthly_sales.reset_index(drop=True)"
   ]
  },
  {
   "cell_type": "code",
   "execution_count": 54,
   "id": "d201791e-7054-4a23-b966-f62009750566",
   "metadata": {},
   "outputs": [
    {
     "data": {
      "image/png": "[encoded data removed]",
      "text/plain": [
       "<Figure size 1600x600 with 1 Axes>"
      ]
     },
     "metadata": {},
     "output_type": "display_data"
    }
   ],
   "source": [
    "# Assuming df is your DataFrame and 'Date' is the column containing the date\n",
    "# Convert 'Date' to datetime\n",
    "df['Date'] = pd.to_datetime(df['Date'])\n",
    "\n",
    "# Plot monthly sales\n",
    "monthly_sales = df.groupby(df['Date'].dt.month)['Amount'].sum()\n",
    "monthly_sales.index = [calendar.month_name[i] for i in monthly_sales.index]  # Replace month numbers with month names\n",
    "\n",
    "plt.figure(figsize=(16, 6))\n",
    "monthly_sales.plot(marker='o', legend=True)\n",
    "\n",
    "plt.xlabel('Month')\n",
    "plt.ylabel('Total Sales')\n",
    "plt.title('Monthly Sales')\n",
    "plt.show()"
   ]
  },
  {
   "cell_type": "markdown",
   "id": "90d46028-4b92-4ddf-9cb0-3458bee2db51",
   "metadata": {},
   "source": [
    "* Figure 1 - Monthly Sales trend\n",
    "* Conclusion # 7 - This dataset has the data of four months April, May, June and March. \n",
    "The total sales of the month of April was INR 30653103.32, May was INR 27741396.75, June was INR 24807024.38 and March was INR 107128.85."
   ]
  },
  {
   "cell_type": "markdown",
   "id": "e898ace5-cca4-4dc3-a277-2552c7b5dc67",
   "metadata": {},
   "source": [
    "# Sales by Category"
   ]
  },
  {
   "cell_type": "code",
   "execution_count": 55,
   "id": "717594f2-17da-4591-96b3-74fb0f42ddf3",
   "metadata": {},
   "outputs": [
    {
     "data": {
      "text/html": [
       "<div>\n",
       "<style scoped>\n",
       "    .dataframe tbody tr th:only-of-type {\n",
       "        vertical-align: middle;\n",
       "    }\n",
       "\n",
       "    .dataframe tbody tr th {\n",
       "        vertical-align: top;\n",
       "    }\n",
       "\n",
       "    .dataframe thead th {\n",
       "        text-align: right;\n",
       "    }\n",
       "</style>\n",
       "<table border=\"1\" class=\"dataframe\">\n",
       "  <thead>\n",
       "    <tr style=\"text-align: right;\">\n",
       "      <th></th>\n",
       "      <th>Category</th>\n",
       "      <th>Total Sales</th>\n",
       "    </tr>\n",
       "  </thead>\n",
       "  <tbody>\n",
       "    <tr>\n",
       "      <th>0</th>\n",
       "      <td>Set</td>\n",
       "      <td>41165534.03</td>\n",
       "    </tr>\n",
       "    <tr>\n",
       "      <th>1</th>\n",
       "      <td>kurta</td>\n",
       "      <td>23211346.70</td>\n",
       "    </tr>\n",
       "    <tr>\n",
       "      <th>2</th>\n",
       "      <td>Western Dress</td>\n",
       "      <td>11697652.69</td>\n",
       "    </tr>\n",
       "    <tr>\n",
       "      <th>3</th>\n",
       "      <td>Top</td>\n",
       "      <td>5624277.30</td>\n",
       "    </tr>\n",
       "    <tr>\n",
       "      <th>4</th>\n",
       "      <td>Ethnic Dress</td>\n",
       "      <td>831147.66</td>\n",
       "    </tr>\n",
       "    <tr>\n",
       "      <th>5</th>\n",
       "      <td>Blouse</td>\n",
       "      <td>485633.18</td>\n",
       "    </tr>\n",
       "    <tr>\n",
       "      <th>6</th>\n",
       "      <td>Bottom</td>\n",
       "      <td>162767.98</td>\n",
       "    </tr>\n",
       "    <tr>\n",
       "      <th>7</th>\n",
       "      <td>Saree</td>\n",
       "      <td>129378.76</td>\n",
       "    </tr>\n",
       "    <tr>\n",
       "      <th>8</th>\n",
       "      <td>Dupatta</td>\n",
       "      <td>915.00</td>\n",
       "    </tr>\n",
       "  </tbody>\n",
       "</table>\n",
       "</div>"
      ],
      "text/plain": [
       "        Category  Total Sales\n",
       "0            Set  41165534.03\n",
       "1          kurta  23211346.70\n",
       "2  Western Dress  11697652.69\n",
       "3            Top   5624277.30\n",
       "4   Ethnic Dress    831147.66\n",
       "5         Blouse    485633.18\n",
       "6         Bottom    162767.98\n",
       "7          Saree    129378.76\n",
       "8        Dupatta       915.00"
      ]
     },
     "execution_count": 55,
     "metadata": {},
     "output_type": "execute_result"
    }
   ],
   "source": [
    "category_sales = df.groupby('Category')['Amount'].sum().reset_index(name='Total Sales').sort_values(by='Total Sales', ascending=False)\n",
    "category_sales.reset_index(drop=True)"
   ]
  },
  {
   "cell_type": "code",
   "execution_count": 56,
   "id": "826c0fbd-4a14-492a-9dcb-9bf8024fa5bc",
   "metadata": {},
   "outputs": [
    {
     "data": {
      "image/png": "[encoded data removed]",
      "text/plain": [
       "<Figure size 1600x600 with 1 Axes>"
      ]
     },
     "metadata": {},
     "output_type": "display_data"
    }
   ],
   "source": [
    "plt.figure(figsize=(16, 6))\n",
    "sns.barplot(data=category_sales, x='Category', y='Total Sales',palette = \"viridis\")\n",
    "plt.title('Total Sales by Category')\n",
    "plt.show()"
   ]
  },
  {
   "cell_type": "markdown",
   "id": "6469169f-cd3f-41b2-96bc-3109184ba240",
   "metadata": {},
   "source": [
    "* Figure 2 - Total Sales by Category\n",
    "* we can see that in  Figure the most saleable category is set and the lowest is Dupatta"
   ]
  },
  {
   "cell_type": "markdown",
   "id": "b664222c-dd63-4504-b844-bef1982427cf",
   "metadata": {},
   "source": [
    "# Sales by Region"
   ]
  },
  {
   "cell_type": "code",
   "execution_count": 57,
   "id": "04de25ce-7e89-4c3f-bb56-dfb6023edbd7",
   "metadata": {},
   "outputs": [
    {
     "data": {
      "text/html": [
       "<div>\n",
       "<style scoped>\n",
       "    .dataframe tbody tr th:only-of-type {\n",
       "        vertical-align: middle;\n",
       "    }\n",
       "\n",
       "    .dataframe tbody tr th {\n",
       "        vertical-align: top;\n",
       "    }\n",
       "\n",
       "    .dataframe thead th {\n",
       "        text-align: right;\n",
       "    }\n",
       "</style>\n",
       "<table border=\"1\" class=\"dataframe\">\n",
       "  <thead>\n",
       "    <tr style=\"text-align: right;\">\n",
       "      <th></th>\n",
       "      <th>ship-state</th>\n",
       "      <th>Total Sales</th>\n",
       "    </tr>\n",
       "  </thead>\n",
       "  <tbody>\n",
       "    <tr>\n",
       "      <th>0</th>\n",
       "      <td>MAHARASHTRA</td>\n",
       "      <td>14073550.14</td>\n",
       "    </tr>\n",
       "    <tr>\n",
       "      <th>1</th>\n",
       "      <td>KARNATAKA</td>\n",
       "      <td>11044974.37</td>\n",
       "    </tr>\n",
       "    <tr>\n",
       "      <th>2</th>\n",
       "      <td>TELANGANA</td>\n",
       "      <td>7335880.65</td>\n",
       "    </tr>\n",
       "    <tr>\n",
       "      <th>3</th>\n",
       "      <td>UTTAR PRADESH</td>\n",
       "      <td>7234697.08</td>\n",
       "    </tr>\n",
       "    <tr>\n",
       "      <th>4</th>\n",
       "      <td>TAMIL NADU</td>\n",
       "      <td>6923420.11</td>\n",
       "    </tr>\n",
       "    <tr>\n",
       "      <th>...</th>\n",
       "      <td>...</td>\n",
       "      <td>...</td>\n",
       "    </tr>\n",
       "    <tr>\n",
       "      <th>64</th>\n",
       "      <td>Pondicherry</td>\n",
       "      <td>529.00</td>\n",
       "    </tr>\n",
       "    <tr>\n",
       "      <th>65</th>\n",
       "      <td>rajsthan</td>\n",
       "      <td>521.00</td>\n",
       "    </tr>\n",
       "    <tr>\n",
       "      <th>66</th>\n",
       "      <td>AR</td>\n",
       "      <td>493.00</td>\n",
       "    </tr>\n",
       "    <tr>\n",
       "      <th>67</th>\n",
       "      <td>Rajsthan</td>\n",
       "      <td>443.00</td>\n",
       "    </tr>\n",
       "    <tr>\n",
       "      <th>68</th>\n",
       "      <td>PB</td>\n",
       "      <td>399.00</td>\n",
       "    </tr>\n",
       "  </tbody>\n",
       "</table>\n",
       "<p>69 rows × 2 columns</p>\n",
       "</div>"
      ],
      "text/plain": [
       "       ship-state  Total Sales\n",
       "0     MAHARASHTRA  14073550.14\n",
       "1       KARNATAKA  11044974.37\n",
       "2       TELANGANA   7335880.65\n",
       "3   UTTAR PRADESH   7234697.08\n",
       "4      TAMIL NADU   6923420.11\n",
       "..            ...          ...\n",
       "64    Pondicherry       529.00\n",
       "65       rajsthan       521.00\n",
       "66             AR       493.00\n",
       "67       Rajsthan       443.00\n",
       "68             PB       399.00\n",
       "\n",
       "[69 rows x 2 columns]"
      ]
     },
     "execution_count": 57,
     "metadata": {},
     "output_type": "execute_result"
    }
   ],
   "source": [
    "# total sales by states\n",
    "state_sales = df.groupby('ship-state')['Amount'].sum().reset_index().sort_values(by='Amount', ascending=False).rename(columns={'Amount': 'Total Sales'})\n",
    "state_sales.reset_index(drop=True)"
   ]
  },
  {
   "cell_type": "code",
   "execution_count": 58,
   "id": "d4ce8c4e-743d-4b6f-b0fa-7e2569cca3e5",
   "metadata": {},
   "outputs": [
    {
     "data": {
      "text/html": [
       "<div>\n",
       "<style scoped>\n",
       "    .dataframe tbody tr th:only-of-type {\n",
       "        vertical-align: middle;\n",
       "    }\n",
       "\n",
       "    .dataframe tbody tr th {\n",
       "        vertical-align: top;\n",
       "    }\n",
       "\n",
       "    .dataframe thead th {\n",
       "        text-align: right;\n",
       "    }\n",
       "</style>\n",
       "<table border=\"1\" class=\"dataframe\">\n",
       "  <thead>\n",
       "    <tr style=\"text-align: right;\">\n",
       "      <th></th>\n",
       "      <th>ship-state</th>\n",
       "      <th>Total Sales</th>\n",
       "    </tr>\n",
       "  </thead>\n",
       "  <tbody>\n",
       "    <tr>\n",
       "      <th>0</th>\n",
       "      <td>MAHARASHTRA</td>\n",
       "      <td>14073550.14</td>\n",
       "    </tr>\n",
       "    <tr>\n",
       "      <th>1</th>\n",
       "      <td>KARNATAKA</td>\n",
       "      <td>11044974.37</td>\n",
       "    </tr>\n",
       "    <tr>\n",
       "      <th>2</th>\n",
       "      <td>TELANGANA</td>\n",
       "      <td>7335880.65</td>\n",
       "    </tr>\n",
       "    <tr>\n",
       "      <th>3</th>\n",
       "      <td>UTTAR PRADESH</td>\n",
       "      <td>7234697.08</td>\n",
       "    </tr>\n",
       "    <tr>\n",
       "      <th>4</th>\n",
       "      <td>TAMIL NADU</td>\n",
       "      <td>6923420.11</td>\n",
       "    </tr>\n",
       "    <tr>\n",
       "      <th>5</th>\n",
       "      <td>DELHI</td>\n",
       "      <td>4470560.97</td>\n",
       "    </tr>\n",
       "    <tr>\n",
       "      <th>6</th>\n",
       "      <td>KERALA</td>\n",
       "      <td>4092797.58</td>\n",
       "    </tr>\n",
       "    <tr>\n",
       "      <th>7</th>\n",
       "      <td>WEST BENGAL</td>\n",
       "      <td>3759560.44</td>\n",
       "    </tr>\n",
       "    <tr>\n",
       "      <th>8</th>\n",
       "      <td>ANDHRA PRADESH</td>\n",
       "      <td>3446706.72</td>\n",
       "    </tr>\n",
       "    <tr>\n",
       "      <th>9</th>\n",
       "      <td>HARYANA</td>\n",
       "      <td>3019427.99</td>\n",
       "    </tr>\n",
       "  </tbody>\n",
       "</table>\n",
       "</div>"
      ],
      "text/plain": [
       "       ship-state  Total Sales\n",
       "0     MAHARASHTRA  14073550.14\n",
       "1       KARNATAKA  11044974.37\n",
       "2       TELANGANA   7335880.65\n",
       "3   UTTAR PRADESH   7234697.08\n",
       "4      TAMIL NADU   6923420.11\n",
       "5           DELHI   4470560.97\n",
       "6          KERALA   4092797.58\n",
       "7     WEST BENGAL   3759560.44\n",
       "8  ANDHRA PRADESH   3446706.72\n",
       "9         HARYANA   3019427.99"
      ]
     },
     "execution_count": 58,
     "metadata": {},
     "output_type": "execute_result"
    }
   ],
   "source": [
    "# Top 10 states by sales\n",
    "Top_10_states = state_sales.nlargest(10, 'Total Sales').reset_index(drop=True)\n",
    "Top_10_states"
   ]
  },
  {
   "cell_type": "code",
   "execution_count": 59,
   "id": "335b1402-6c5f-4152-8f09-f0724dcd735e",
   "metadata": {},
   "outputs": [
    {
     "data": {
      "image/png": "[encoded data removed]",
      "text/plain": [
       "<Figure size 1600x600 with 1 Axes>"
      ]
     },
     "metadata": {},
     "output_type": "display_data"
    }
   ],
   "source": [
    "plt.figure(figsize=(16, 6))\n",
    "sns.barplot(data=Top_10_states, y='Total Sales', x='ship-state',palette = \"viridis\")\n",
    "plt.xticks(rotation=90)\n",
    "plt.title('Top 10 States by Sales')\n",
    "plt.show()"
   ]
  },
  {
   "cell_type": "markdown",
   "id": "f275a718-5d4c-4e91-be30-3f6fb723b37e",
   "metadata": {},
   "source": [
    "* Figure 3 Top 10 states by sales\n",
    "* we can see that in  FigureTop state in sales: MAHARASHTRA with sales of 14,073,550.14.\n",
    "Lowest state in sales: HARYANA with sales of 3,019,427.99."
   ]
  },
  {
   "cell_type": "markdown",
   "id": "2ea1b468-7b85-4945-a906-3128fea6c467",
   "metadata": {},
   "source": [
    "# Top 10 Cities by Sales"
   ]
  },
  {
   "cell_type": "code",
   "execution_count": 60,
   "id": "aad65ea7-eb8e-4b93-933d-1657945584a4",
   "metadata": {},
   "outputs": [
    {
     "data": {
      "text/html": [
       "<div>\n",
       "<style scoped>\n",
       "    .dataframe tbody tr th:only-of-type {\n",
       "        vertical-align: middle;\n",
       "    }\n",
       "\n",
       "    .dataframe tbody tr th {\n",
       "        vertical-align: top;\n",
       "    }\n",
       "\n",
       "    .dataframe thead th {\n",
       "        text-align: right;\n",
       "    }\n",
       "</style>\n",
       "<table border=\"1\" class=\"dataframe\">\n",
       "  <thead>\n",
       "    <tr style=\"text-align: right;\">\n",
       "      <th></th>\n",
       "      <th>ship-city</th>\n",
       "      <th>Total Sales</th>\n",
       "    </tr>\n",
       "  </thead>\n",
       "  <tbody>\n",
       "    <tr>\n",
       "      <th>0</th>\n",
       "      <td>BENGALURU</td>\n",
       "      <td>7191405.99</td>\n",
       "    </tr>\n",
       "    <tr>\n",
       "      <th>1</th>\n",
       "      <td>HYDERABAD</td>\n",
       "      <td>5229172.82</td>\n",
       "    </tr>\n",
       "    <tr>\n",
       "      <th>2</th>\n",
       "      <td>MUMBAI</td>\n",
       "      <td>3861156.80</td>\n",
       "    </tr>\n",
       "    <tr>\n",
       "      <th>3</th>\n",
       "      <td>NEW DELHI</td>\n",
       "      <td>3822599.78</td>\n",
       "    </tr>\n",
       "    <tr>\n",
       "      <th>4</th>\n",
       "      <td>CHENNAI</td>\n",
       "      <td>3274800.74</td>\n",
       "    </tr>\n",
       "    <tr>\n",
       "      <th>5</th>\n",
       "      <td>PUNE</td>\n",
       "      <td>2459518.18</td>\n",
       "    </tr>\n",
       "    <tr>\n",
       "      <th>6</th>\n",
       "      <td>KOLKATA</td>\n",
       "      <td>1497258.87</td>\n",
       "    </tr>\n",
       "    <tr>\n",
       "      <th>7</th>\n",
       "      <td>GURUGRAM</td>\n",
       "      <td>1273043.74</td>\n",
       "    </tr>\n",
       "    <tr>\n",
       "      <th>8</th>\n",
       "      <td>THANE</td>\n",
       "      <td>1061225.29</td>\n",
       "    </tr>\n",
       "    <tr>\n",
       "      <th>9</th>\n",
       "      <td>LUCKNOW</td>\n",
       "      <td>996846.34</td>\n",
       "    </tr>\n",
       "  </tbody>\n",
       "</table>\n",
       "</div>"
      ],
      "text/plain": [
       "   ship-city  Total Sales\n",
       "0  BENGALURU   7191405.99\n",
       "1  HYDERABAD   5229172.82\n",
       "2     MUMBAI   3861156.80\n",
       "3  NEW DELHI   3822599.78\n",
       "4    CHENNAI   3274800.74\n",
       "5       PUNE   2459518.18\n",
       "6    KOLKATA   1497258.87\n",
       "7   GURUGRAM   1273043.74\n",
       "8      THANE   1061225.29\n",
       "9    LUCKNOW    996846.34"
      ]
     },
     "execution_count": 60,
     "metadata": {},
     "output_type": "execute_result"
    }
   ],
   "source": [
    "# Total sales by Cities\n",
    "city_sales = df.groupby('ship-city')['Amount'].sum().reset_index().sort_values(by='Amount', ascending=False).rename(columns={'Amount': 'Total Sales'})\n",
    "Top_10_cities = city_sales.reset_index(drop=True).head(10)\n",
    "Top_10_cities"
   ]
  },
  {
   "cell_type": "code",
   "execution_count": 61,
   "id": "290deb36-c628-4445-b4fe-55b2f4b3af0a",
   "metadata": {},
   "outputs": [
    {
     "data": {
      "image/png": "[encoded data removed]",
      "text/plain": [
       "<Figure size 1600x600 with 1 Axes>"
      ]
     },
     "metadata": {},
     "output_type": "display_data"
    }
   ],
   "source": [
    "# Top 10 Cities by sales\n",
    "plt.figure(figsize=(16, 6))\n",
    "sns.barplot(data=Top_10_cities, y='Total Sales', x='ship-city',palette = \"viridis\")\n",
    "plt.xticks(rotation=90)\n",
    "plt.title('Top 10 Cities by Sales')\n",
    "plt.show()"
   ]
  },
  {
   "cell_type": "markdown",
   "id": "7cd563d0-bd2c-4da9-8e12-bc84b3c32f4f",
   "metadata": {},
   "source": [
    "* Figure 4 - Top 10 Cities by Sales\n",
    "* Top City in Sales:\n",
    "The top city in terms of total sales is BENGALURU with a total sales value of 7,191,405.99.\n",
    "* Lowest City in Sales:\n",
    "The city with the lowest total sales is LUCKNOW with a total sales value of 996,846.34."
   ]
  },
  {
   "cell_type": "markdown",
   "id": "9dc3cc56-ee32-4244-84e9-a939cb8bbc05",
   "metadata": {},
   "source": [
    "# Total Sales by Fulfilment\n"
   ]
  },
  {
   "cell_type": "code",
   "execution_count": 62,
   "id": "99a9af79-1ec6-42e3-a433-25c9be7b8f25",
   "metadata": {},
   "outputs": [
    {
     "data": {
      "text/plain": [
       "array(['Merchant', 'Amazon'], dtype=object)"
      ]
     },
     "execution_count": 62,
     "metadata": {},
     "output_type": "execute_result"
    }
   ],
   "source": [
    "df['Fulfilment'].unique()"
   ]
  },
  {
   "cell_type": "code",
   "execution_count": 63,
   "id": "29bf7a61-f4a5-46d7-94ac-a2293b5a723c",
   "metadata": {},
   "outputs": [
    {
     "data": {
      "text/html": [
       "<div>\n",
       "<style scoped>\n",
       "    .dataframe tbody tr th:only-of-type {\n",
       "        vertical-align: middle;\n",
       "    }\n",
       "\n",
       "    .dataframe tbody tr th {\n",
       "        vertical-align: top;\n",
       "    }\n",
       "\n",
       "    .dataframe thead th {\n",
       "        text-align: right;\n",
       "    }\n",
       "</style>\n",
       "<table border=\"1\" class=\"dataframe\">\n",
       "  <thead>\n",
       "    <tr style=\"text-align: right;\">\n",
       "      <th></th>\n",
       "      <th>Fulfilment</th>\n",
       "      <th>Total Sales</th>\n",
       "    </tr>\n",
       "  </thead>\n",
       "  <tbody>\n",
       "    <tr>\n",
       "      <th>0</th>\n",
       "      <td>Amazon</td>\n",
       "      <td>57987846.0</td>\n",
       "    </tr>\n",
       "    <tr>\n",
       "      <th>1</th>\n",
       "      <td>Merchant</td>\n",
       "      <td>25320807.3</td>\n",
       "    </tr>\n",
       "  </tbody>\n",
       "</table>\n",
       "</div>"
      ],
      "text/plain": [
       "  Fulfilment  Total Sales\n",
       "0     Amazon   57987846.0\n",
       "1   Merchant   25320807.3"
      ]
     },
     "execution_count": 63,
     "metadata": {},
     "output_type": "execute_result"
    }
   ],
   "source": [
    "# get the sales by Fulfilment\n",
    "fulfilment_sales = df.groupby('Fulfilment')['Amount'].sum().reset_index(name='Total Sales').sort_values(by='Total Sales', ascending=False)\n",
    "fulfilment_sales"
   ]
  },
  {
   "cell_type": "code",
   "execution_count": 64,
   "id": "c5f55e96-8eb5-4ed0-ad9b-e1d082d5701e",
   "metadata": {},
   "outputs": [
    {
     "data": {
      "image/png": "[encoded data removed]",
      "text/plain": [
       "<Figure size 700x600 with 1 Axes>"
      ]
     },
     "metadata": {},
     "output_type": "display_data"
    }
   ],
   "source": [
    "# Total sales by Fulfilment\n",
    "plt.figure(figsize=(7, 6))\n",
    "sns.barplot(data=fulfilment_sales, x='Fulfilment', y='Total Sales',palette = \"viridis\")\n",
    "plt.title('Total sales by Fulfilment')\n",
    "plt.show()"
   ]
  },
  {
   "cell_type": "markdown",
   "id": "62d790c9-2c06-40bb-81f9-d199fc185743",
   "metadata": {},
   "source": [
    "* Figure 5 - The total sales by Fulfilment\n",
    "*  The fulfilment by Amazon has higher sales as compared to fulfilment by Merchant.\n",
    "*  Top Fulfillment Method in Sales:\n",
    "The fulfillment method with the highest total sales is Amazon with total sales amounting to 57,987,846.0.\n",
    "* Lowest Fulfillment Method in Sales:\n",
    "The fulfillment method with the lowest total sales is Merchant with total sales amounting to 25,320,807.3.\n"
   ]
  },
  {
   "cell_type": "markdown",
   "id": "5bb9c653-8863-4202-b315-ec845296ecc6",
   "metadata": {},
   "source": [
    "# B2B Sales"
   ]
  },
  {
   "cell_type": "code",
   "execution_count": 65,
   "id": "18960254-42e3-4ba4-8fb6-b2578dfd1e44",
   "metadata": {},
   "outputs": [
    {
     "data": {
      "text/plain": [
       "B2B\n",
       "False    99.32\n",
       "True      0.68\n",
       "Name: count, dtype: float64"
      ]
     },
     "execution_count": 65,
     "metadata": {},
     "output_type": "execute_result"
    }
   ],
   "source": [
    "# How much percentage of sales are from B2B\n",
    "(df['B2B'].value_counts()/len(df)*100).round(2)"
   ]
  },
  {
   "cell_type": "code",
   "execution_count": 66,
   "id": "aa2478a5-fa5d-4173-955b-b6468ca59fd2",
   "metadata": {},
   "outputs": [
    {
     "data": {
      "text/plain": [
       "608160.79"
      ]
     },
     "execution_count": 66,
     "metadata": {},
     "output_type": "execute_result"
    }
   ],
   "source": [
    "# what is total b2b sales\n",
    "b2b_sales = df[df['B2B'] == True]['Amount'].sum()\n",
    "b2b_sales"
   ]
  },
  {
   "cell_type": "markdown",
   "id": "1fd2f4b3-c5c7-45e3-b753-d0e76a94f84c",
   "metadata": {},
   "source": [
    "* Conclusion # 9- As we see that only 0.68% of sales from B2B and This total B2B Sales is INR 608161\n"
   ]
  },
  {
   "cell_type": "code",
   "execution_count": 67,
   "id": "a82e728e-30a3-41ce-b4d0-9126dc5cde43",
   "metadata": {},
   "outputs": [
    {
     "data": {
      "text/html": [
       "<div>\n",
       "<style scoped>\n",
       "    .dataframe tbody tr th:only-of-type {\n",
       "        vertical-align: middle;\n",
       "    }\n",
       "\n",
       "    .dataframe tbody tr th {\n",
       "        vertical-align: top;\n",
       "    }\n",
       "\n",
       "    .dataframe thead th {\n",
       "        text-align: right;\n",
       "    }\n",
       "</style>\n",
       "<table border=\"1\" class=\"dataframe\">\n",
       "  <thead>\n",
       "    <tr style=\"text-align: right;\">\n",
       "      <th></th>\n",
       "      <th>Category</th>\n",
       "      <th>Total Sales</th>\n",
       "    </tr>\n",
       "  </thead>\n",
       "  <tbody>\n",
       "    <tr>\n",
       "      <th>0</th>\n",
       "      <td>Set</td>\n",
       "      <td>305106.10</td>\n",
       "    </tr>\n",
       "    <tr>\n",
       "      <th>1</th>\n",
       "      <td>kurta</td>\n",
       "      <td>164457.11</td>\n",
       "    </tr>\n",
       "    <tr>\n",
       "      <th>2</th>\n",
       "      <td>Western Dress</td>\n",
       "      <td>86328.72</td>\n",
       "    </tr>\n",
       "    <tr>\n",
       "      <th>3</th>\n",
       "      <td>Top</td>\n",
       "      <td>33197.00</td>\n",
       "    </tr>\n",
       "    <tr>\n",
       "      <th>4</th>\n",
       "      <td>Ethnic Dress</td>\n",
       "      <td>12682.19</td>\n",
       "    </tr>\n",
       "    <tr>\n",
       "      <th>5</th>\n",
       "      <td>Blouse</td>\n",
       "      <td>3143.00</td>\n",
       "    </tr>\n",
       "    <tr>\n",
       "      <th>6</th>\n",
       "      <td>Saree</td>\n",
       "      <td>1651.00</td>\n",
       "    </tr>\n",
       "    <tr>\n",
       "      <th>7</th>\n",
       "      <td>Bottom</td>\n",
       "      <td>1595.67</td>\n",
       "    </tr>\n",
       "  </tbody>\n",
       "</table>\n",
       "</div>"
      ],
      "text/plain": [
       "        Category  Total Sales\n",
       "0            Set    305106.10\n",
       "1          kurta    164457.11\n",
       "2  Western Dress     86328.72\n",
       "3            Top     33197.00\n",
       "4   Ethnic Dress     12682.19\n",
       "5         Blouse      3143.00\n",
       "6          Saree      1651.00\n",
       "7         Bottom      1595.67"
      ]
     },
     "execution_count": 67,
     "metadata": {},
     "output_type": "execute_result"
    }
   ],
   "source": [
    "# Which category has the highest b2b sales\n",
    "b2b_sales_category = df[df['B2B'] == True].groupby('Category')['Amount'].sum().reset_index(name='Total Sales').sort_values(by='Total Sales', ascending=False)\n",
    "b2b_sales_category = b2b_sales_category.reset_index(drop=True)\n",
    "b2b_sales_category"
   ]
  },
  {
   "cell_type": "code",
   "execution_count": 68,
   "id": "6430d347-f1f0-4990-8c59-b90459f18600",
   "metadata": {},
   "outputs": [
    {
     "data": {
      "image/png": "[encoded data removed]",
      "text/plain": [
       "<Figure size 1600x600 with 1 Axes>"
      ]
     },
     "metadata": {},
     "output_type": "display_data"
    }
   ],
   "source": [
    "# Total sales by Fulfilment\n",
    "plt.figure(figsize=(16, 6))\n",
    "sns.barplot(data=b2b_sales_category, x='Category', y='Total Sales',palette = \"viridis\")\n",
    "plt.title('Total B2B Sales by category')\n",
    "plt.show()"
   ]
  },
  {
   "cell_type": "markdown",
   "id": "efee4699-7efe-4bc8-83f0-0dc4a31cff33",
   "metadata": {},
   "source": [
    "* figure 6 Total B2B Sales by category\n",
    "* Top Category in Sales:\n",
    "The category with the highest total sales is Set with total sales amounting to 305,106.10.\n",
    "* Lowest Category in Sales:\n",
    "The category with the lowest total sales is Bottom with total sales amounting to 1,595.67."
   ]
  },
  {
   "cell_type": "code",
   "execution_count": 69,
   "id": "1ff0103c-324d-47c5-bef6-7937249c9713",
   "metadata": {},
   "outputs": [
    {
     "data": {
      "text/plain": [
       "82700492.51"
      ]
     },
     "execution_count": 69,
     "metadata": {},
     "output_type": "execute_result"
    }
   ],
   "source": [
    "# what is total b2c sales\n",
    "b2c_sales = df[df['B2B'] == False]['Amount'].sum()\n",
    "b2c_sales"
   ]
  },
  {
   "cell_type": "code",
   "execution_count": 70,
   "id": "5d209254-48b8-4595-9a91-7853ce333b21",
   "metadata": {},
   "outputs": [
    {
     "data": {
      "text/html": [
       "<div>\n",
       "<style scoped>\n",
       "    .dataframe tbody tr th:only-of-type {\n",
       "        vertical-align: middle;\n",
       "    }\n",
       "\n",
       "    .dataframe tbody tr th {\n",
       "        vertical-align: top;\n",
       "    }\n",
       "\n",
       "    .dataframe thead th {\n",
       "        text-align: right;\n",
       "    }\n",
       "</style>\n",
       "<table border=\"1\" class=\"dataframe\">\n",
       "  <thead>\n",
       "    <tr style=\"text-align: right;\">\n",
       "      <th></th>\n",
       "      <th>Category</th>\n",
       "      <th>Total Sales</th>\n",
       "    </tr>\n",
       "  </thead>\n",
       "  <tbody>\n",
       "    <tr>\n",
       "      <th>0</th>\n",
       "      <td>Set</td>\n",
       "      <td>40860427.93</td>\n",
       "    </tr>\n",
       "    <tr>\n",
       "      <th>1</th>\n",
       "      <td>kurta</td>\n",
       "      <td>23046889.59</td>\n",
       "    </tr>\n",
       "    <tr>\n",
       "      <th>2</th>\n",
       "      <td>Western Dress</td>\n",
       "      <td>11611323.97</td>\n",
       "    </tr>\n",
       "    <tr>\n",
       "      <th>3</th>\n",
       "      <td>Top</td>\n",
       "      <td>5591080.30</td>\n",
       "    </tr>\n",
       "    <tr>\n",
       "      <th>4</th>\n",
       "      <td>Ethnic Dress</td>\n",
       "      <td>818465.47</td>\n",
       "    </tr>\n",
       "    <tr>\n",
       "      <th>5</th>\n",
       "      <td>Blouse</td>\n",
       "      <td>482490.18</td>\n",
       "    </tr>\n",
       "    <tr>\n",
       "      <th>6</th>\n",
       "      <td>Bottom</td>\n",
       "      <td>161172.31</td>\n",
       "    </tr>\n",
       "    <tr>\n",
       "      <th>7</th>\n",
       "      <td>Saree</td>\n",
       "      <td>127727.76</td>\n",
       "    </tr>\n",
       "    <tr>\n",
       "      <th>8</th>\n",
       "      <td>Dupatta</td>\n",
       "      <td>915.00</td>\n",
       "    </tr>\n",
       "  </tbody>\n",
       "</table>\n",
       "</div>"
      ],
      "text/plain": [
       "        Category  Total Sales\n",
       "0            Set  40860427.93\n",
       "1          kurta  23046889.59\n",
       "2  Western Dress  11611323.97\n",
       "3            Top   5591080.30\n",
       "4   Ethnic Dress    818465.47\n",
       "5         Blouse    482490.18\n",
       "6         Bottom    161172.31\n",
       "7          Saree    127727.76\n",
       "8        Dupatta       915.00"
      ]
     },
     "execution_count": 70,
     "metadata": {},
     "output_type": "execute_result"
    }
   ],
   "source": [
    "# Which category has the highest b2b sales\n",
    "\n",
    "b2c_sales_category = df[df['B2B'] == False].groupby('Category')['Amount'].sum().reset_index(name='Total Sales').sort_values(by='Total Sales', ascending=False)\n",
    "b2c_sales_category = b2c_sales_category.reset_index(drop=True)\n",
    "b2c_sales_category"
   ]
  },
  {
   "cell_type": "code",
   "execution_count": 71,
   "id": "25682456-7310-4168-80cd-170825766852",
   "metadata": {},
   "outputs": [
    {
     "data": {
      "image/png": "[encoded data removed]",
      "text/plain": [
       "<Figure size 1600x600 with 1 Axes>"
      ]
     },
     "metadata": {},
     "output_type": "display_data"
    }
   ],
   "source": [
    "# Total sales by Fulfilment\n",
    "\n",
    "plt.figure(figsize=(16, 6))\n",
    "sns.barplot(data=b2c_sales_category, x='Category', y='Total Sales',palette = \"viridis\")\n",
    "plt.title('Total B2B Sales by category')\n",
    "plt.show()"
   ]
  },
  {
   "cell_type": "markdown",
   "id": "d26b4d9f-8bcc-44f9-b9cd-312b20128035",
   "metadata": {},
   "source": [
    "* Conclusion #- As we see that the 99.32% of sales from B2C and This total B2C Sales is INR 82700493¶\n"
   ]
  },
  {
   "cell_type": "markdown",
   "id": "8e3acac0-4536-41c1-8282-13c24b5844dc",
   "metadata": {},
   "source": [
    "# Monthly trends of sales"
   ]
  },
  {
   "cell_type": "code",
   "execution_count": 72,
   "id": "5f73b66b-dc95-4581-9f7b-9b5c430a8120",
   "metadata": {},
   "outputs": [
    {
     "data": {
      "text/html": [
       "<div>\n",
       "<style scoped>\n",
       "    .dataframe tbody tr th:only-of-type {\n",
       "        vertical-align: middle;\n",
       "    }\n",
       "\n",
       "    .dataframe tbody tr th {\n",
       "        vertical-align: top;\n",
       "    }\n",
       "\n",
       "    .dataframe thead th {\n",
       "        text-align: right;\n",
       "    }\n",
       "</style>\n",
       "<table border=\"1\" class=\"dataframe\">\n",
       "  <thead>\n",
       "    <tr style=\"text-align: right;\">\n",
       "      <th></th>\n",
       "      <th>Month</th>\n",
       "      <th>Total Sales</th>\n",
       "    </tr>\n",
       "  </thead>\n",
       "  <tbody>\n",
       "    <tr>\n",
       "      <th>0</th>\n",
       "      <td>April</td>\n",
       "      <td>30653103.32</td>\n",
       "    </tr>\n",
       "    <tr>\n",
       "      <th>1</th>\n",
       "      <td>May</td>\n",
       "      <td>27741396.75</td>\n",
       "    </tr>\n",
       "    <tr>\n",
       "      <th>2</th>\n",
       "      <td>June</td>\n",
       "      <td>24807024.38</td>\n",
       "    </tr>\n",
       "    <tr>\n",
       "      <th>3</th>\n",
       "      <td>March</td>\n",
       "      <td>107128.85</td>\n",
       "    </tr>\n",
       "  </tbody>\n",
       "</table>\n",
       "</div>"
      ],
      "text/plain": [
       "   Month  Total Sales\n",
       "0  April  30653103.32\n",
       "1    May  27741396.75\n",
       "2   June  24807024.38\n",
       "3  March    107128.85"
      ]
     },
     "execution_count": 72,
     "metadata": {},
     "output_type": "execute_result"
    }
   ],
   "source": [
    "# total sales by month\n",
    "monthly_sales = df.groupby('Month')['Amount'].sum().reset_index().sort_values(by='Amount', ascending=False).rename(columns={'Amount': 'Total Sales'})\n",
    "monthly_sales.reset_index(drop=True)"
   ]
  },
  {
   "cell_type": "code",
   "execution_count": 73,
   "id": "155b3744-0eb9-4a3f-b04e-9ffb1dd69356",
   "metadata": {},
   "outputs": [
    {
     "data": {
      "image/png": "[encoded data removed]",
      "text/plain": [
       "<Figure size 1600x600 with 1 Axes>"
      ]
     },
     "metadata": {},
     "output_type": "display_data"
    }
   ],
   "source": [
    "# get the linear plot of daily sales for March\n",
    "df[df['Date'].dt.month == 3].groupby(df['Date'].dt.day)['Amount'].sum().plot(marker='o', figsize=(16, 6))\n",
    "\n",
    "plt.xlabel('Days of March')\n",
    "plt.ylabel('Sales')\n",
    "plt.title('Daily Sales Trend for Month March')\n",
    "plt.legend(['March Sales'])\n",
    "plt.show()"
   ]
  },
  {
   "cell_type": "markdown",
   "id": "7168a971-de8f-44ed-bbc8-7ed6253417b9",
   "metadata": {},
   "source": [
    "* Daily Sales Trend for month March"
   ]
  },
  {
   "cell_type": "code",
   "execution_count": 74,
   "id": "30cadea5-868d-455a-b164-4dec24302599",
   "metadata": {},
   "outputs": [
    {
     "data": {
      "image/png": "[encoded data removed]",
      "text/plain": [
       "<Figure size 1600x600 with 1 Axes>"
      ]
     },
     "metadata": {},
     "output_type": "display_data"
    }
   ],
   "source": [
    "# get the linear trend of daily sales for April\n",
    "df[df['Date'].dt.month == 4].groupby(df['Date'].dt.day)['Amount'].sum().plot(marker='o', figsize=(16, 6))\n",
    "\n",
    "plt.xlabel('Days of April')\n",
    "plt.ylabel('Sales')\n",
    "plt.title('Daily Sales Trend for Month April')\n",
    "plt.legend(['April Sales'])\n",
    "plt.show()"
   ]
  },
  {
   "cell_type": "markdown",
   "id": "06ed0215-fcea-4f19-acb5-b8cadd5325c0",
   "metadata": {},
   "source": [
    "Figure 9 - daily Sales Trend for month April"
   ]
  },
  {
   "cell_type": "markdown",
   "id": "78864f8c-502e-450a-8c4d-65d756e24030",
   "metadata": {},
   "source": []
  },
  {
   "cell_type": "code",
   "execution_count": 75,
   "id": "68c752f9-128d-4390-adc3-88cb4b103da7",
   "metadata": {},
   "outputs": [
    {
     "data": {
      "image/png": "[encoded data removed]",
      "text/plain": [
       "<Figure size 1600x600 with 1 Axes>"
      ]
     },
     "metadata": {},
     "output_type": "display_data"
    }
   ],
   "source": [
    "# get the linear trend of daily sales for May\n",
    "df[df['Date'].dt.month == 5].groupby(df['Date'].dt.day)['Amount'].sum().plot(marker='o', figsize=(16, 6))\n",
    "\n",
    "plt.xlabel('Days of May')\n",
    "plt.ylabel('Sales')\n",
    "plt.title('Daily Sales Trend for Month May')\n",
    "plt.legend(['May Sales'])\n",
    "plt.show()"
   ]
  },
  {
   "cell_type": "markdown",
   "id": "520633b5-0be8-4846-8304-6f3ac93ad399",
   "metadata": {},
   "source": [
    " Daily Sales Trend for month May"
   ]
  },
  {
   "cell_type": "code",
   "execution_count": null,
   "id": "a2fe87aa-887a-42a4-bba9-e1cfb8db7bde",
   "metadata": {},
   "outputs": [],
   "source": []
  },
  {
   "cell_type": "code",
   "execution_count": 76,
   "id": "44f3cc89-7396-45fc-88e2-1dbb110a1c44",
   "metadata": {},
   "outputs": [
    {
     "data": {
      "image/png": "[encoded data removed]",
      "text/plain": [
       "<Figure size 1600x600 with 1 Axes>"
      ]
     },
     "metadata": {},
     "output_type": "display_data"
    }
   ],
   "source": [
    "# get the linear trend of daily sales for June\n",
    "df[df['Date'].dt.month == 6].groupby(df['Date'].dt.day)['Amount'].sum().plot(marker='o', figsize=(16, 6))\n",
    "\n",
    "plt.xlabel('Days of June')\n",
    "plt.ylabel('Sales')\n",
    "plt.title('Daily Sales Trend for Month June')\n",
    "plt.legend(['June Sales'])\n",
    "plt.show()\n"
   ]
  },
  {
   "cell_type": "markdown",
   "id": "8ccfe657-4ad2-4913-9d59-12a2c68f7cfa",
   "metadata": {},
   "source": [
    " Daily Sales Trend for month JUne"
   ]
  },
  {
   "cell_type": "code",
   "execution_count": null,
   "id": "c3997d2a-8fe9-42af-9f67-c32b528c36f1",
   "metadata": {},
   "outputs": [],
   "source": []
  },
  {
   "cell_type": "code",
   "execution_count": 77,
   "id": "0b6984ef-e2e9-4843-a8cb-47678ff4d8e0",
   "metadata": {},
   "outputs": [
    {
     "data": {
      "text/plain": [
       "128973"
      ]
     },
     "execution_count": 77,
     "metadata": {},
     "output_type": "execute_result"
    }
   ],
   "source": [
    "duplicate_count = df.duplicated(['Fulfilment']).sum()\n",
    "duplicate_count"
   ]
  },
  {
   "cell_type": "code",
   "execution_count": 78,
   "id": "44a188d6-c9c9-4fb2-a9b6-205b45984910",
   "metadata": {},
   "outputs": [
    {
     "data": {
      "text/plain": [
       "ship-service-level\n",
       "Expedited    88615\n",
       "Standard     40360\n",
       "Name: count, dtype: int64"
      ]
     },
     "execution_count": 78,
     "metadata": {},
     "output_type": "execute_result"
    }
   ],
   "source": [
    "df['ship-service-level'].value_counts()"
   ]
  },
  {
   "cell_type": "code",
   "execution_count": null,
   "id": "50954129-33a4-4972-981d-5afc7f849c8d",
   "metadata": {},
   "outputs": [],
   "source": [
    "# "
   ]
  },
  {
   "cell_type": "code",
   "execution_count": 81,
   "id": "648eb74a-e3b6-425f-877a-32cd7a6e5ea3",
   "metadata": {},
   "outputs": [
    {
     "data": {
      "text/plain": [
       "ship-service-level\n",
       "Expedited    88615\n",
       "Standard     40360\n",
       "Name: count, dtype: int64"
      ]
     },
     "execution_count": 81,
     "metadata": {},
     "output_type": "execute_result"
    }
   ],
   "source": [
    "value_counts = df['ship-service-level'].value_counts()\n",
    "value_counts"
   ]
  },
  {
   "cell_type": "code",
   "execution_count": 83,
   "id": "61a437a5-320b-4dcb-bb4b-412dac73f382",
   "metadata": {},
   "outputs": [
    {
     "data": {
      "image/png": "[encoded data removed]",
      "text/plain": [
       "<Figure size 600x500 with 1 Axes>"
      ]
     },
     "metadata": {},
     "output_type": "display_data"
    }
   ],
   "source": [
    "\n",
    "# Plotting the pie chart\n",
    "plt.figure(figsize=(6, 5))\n",
    "plt.pie(value_counts, labels=value_counts.index, autopct='%1.1f%%')\n",
    "plt.title('Distribution of Ship Service Levels')\n",
    "plt.axis('equal') \n",
    "plt.legend(title='Service Level', loc='upper right')\n",
    "plt.xticks(loc = 1)# Equal aspect ratio ensures that pie is drawn as a circle.\n",
    "plt.show()\n"
   ]
  }
 ],
 "metadata": {
  "kernelspec": {
   "display_name": "Python 3 (ipykernel)",
   "language": "python",
   "name": "python3"
  },
  "language_info": {
   "codemirror_mode": {
    "name": "ipython",
    "version": 3
   },
   "file_extension": ".py",
   "mimetype": "text/x-python",
   "name": "python",
   "nbconvert_exporter": "python",
   "pygments_lexer": "ipython3",
   "version": "3.12.2"
  }
 },
 "nbformat": 4,
 "nbformat_minor": 5
}
